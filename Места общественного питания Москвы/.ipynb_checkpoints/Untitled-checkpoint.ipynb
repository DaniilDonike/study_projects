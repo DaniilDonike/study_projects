{
 "cells": [
  {
   "cell_type": "markdown",
   "id": "d292a517",
   "metadata": {},
   "source": [
    "# Рынок заведений общественного питания Москвы"
   ]
  },
  {
   "cell_type": "markdown",
   "id": "2990f9af",
   "metadata": {
    "tags": []
   },
   "source": [
    "## 1. Читаем и изучаем данные"
   ]
  },
  {
   "cell_type": "markdown",
   "id": "d2c2ffec",
   "metadata": {},
   "source": [
    "Импортируем необходимые библиотеки"
   ]
  },
  {
   "cell_type": "code",
   "execution_count": 1,
   "id": "2b0c89ef",
   "metadata": {},
   "outputs": [
    {
     "name": "stderr",
     "output_type": "stream",
     "text": [
      "C:\\Users\\user\\AppData\\Local\\Temp\\ipykernel_14376\\596529766.py:6: DeprecationWarning: Importing display from IPython.core.display is deprecated since IPython 7.14, please import from IPython display\n",
      "  from IPython.core.display import display, HTML\n"
     ]
    }
   ],
   "source": [
    "import pandas as pd \n",
    "import matplotlib.pyplot as plt\n",
    "import seaborn as sns\n",
    "import plotly.express as px\n",
    "import folium\n",
    "from IPython.core.display import display, HTML\n",
    "import matplotlib.pyplot as plt\n",
    "import re\n",
    "import json\n",
    "#from folium import Map, Marker, Figure\n",
    "#from folium.plugins import MarkerCluster\n",
    "import plotly.graph_objects as go\n",
    "from collections import Counter\n",
    "from plotly.subplots import make_subplots"
   ]
  },
  {
   "cell_type": "markdown",
   "id": "1adf537c",
   "metadata": {},
   "source": [
    "Читаем таблицу"
   ]
  },
  {
   "cell_type": "code",
   "execution_count": 2,
   "id": "ea461dea",
   "metadata": {},
   "outputs": [],
   "source": [
    "places = pd.read_csv('data/moscow_places.csv')"
   ]
  },
  {
   "cell_type": "markdown",
   "id": "b0d4970a",
   "metadata": {},
   "source": [
    "Выводим 5 первых строк"
   ]
  },
  {
   "cell_type": "code",
   "execution_count": 3,
   "id": "bc675096",
   "metadata": {},
   "outputs": [
    {
     "data": {
      "text/html": [
       "<div>\n",
       "<style scoped>\n",
       "    .dataframe tbody tr th:only-of-type {\n",
       "        vertical-align: middle;\n",
       "    }\n",
       "\n",
       "    .dataframe tbody tr th {\n",
       "        vertical-align: top;\n",
       "    }\n",
       "\n",
       "    .dataframe thead th {\n",
       "        text-align: right;\n",
       "    }\n",
       "</style>\n",
       "<table border=\"1\" class=\"dataframe\">\n",
       "  <thead>\n",
       "    <tr style=\"text-align: right;\">\n",
       "      <th></th>\n",
       "      <th>name</th>\n",
       "      <th>category</th>\n",
       "      <th>address</th>\n",
       "      <th>district</th>\n",
       "      <th>hours</th>\n",
       "      <th>lat</th>\n",
       "      <th>lng</th>\n",
       "      <th>rating</th>\n",
       "      <th>price</th>\n",
       "      <th>avg_bill</th>\n",
       "      <th>middle_avg_bill</th>\n",
       "      <th>middle_coffee_cup</th>\n",
       "      <th>chain</th>\n",
       "      <th>seats</th>\n",
       "    </tr>\n",
       "  </thead>\n",
       "  <tbody>\n",
       "    <tr>\n",
       "      <th>0</th>\n",
       "      <td>WoWфли</td>\n",
       "      <td>кафе</td>\n",
       "      <td>Москва, улица Дыбенко, 7/1</td>\n",
       "      <td>Северный административный округ</td>\n",
       "      <td>ежедневно, 10:00–22:00</td>\n",
       "      <td>55.878494</td>\n",
       "      <td>37.478860</td>\n",
       "      <td>5.0</td>\n",
       "      <td>NaN</td>\n",
       "      <td>NaN</td>\n",
       "      <td>NaN</td>\n",
       "      <td>NaN</td>\n",
       "      <td>0</td>\n",
       "      <td>NaN</td>\n",
       "    </tr>\n",
       "    <tr>\n",
       "      <th>1</th>\n",
       "      <td>Четыре комнаты</td>\n",
       "      <td>ресторан</td>\n",
       "      <td>Москва, улица Дыбенко, 36, корп. 1</td>\n",
       "      <td>Северный административный округ</td>\n",
       "      <td>ежедневно, 10:00–22:00</td>\n",
       "      <td>55.875801</td>\n",
       "      <td>37.484479</td>\n",
       "      <td>4.5</td>\n",
       "      <td>выше среднего</td>\n",
       "      <td>Средний счёт:1500–1600 ₽</td>\n",
       "      <td>1550.0</td>\n",
       "      <td>NaN</td>\n",
       "      <td>0</td>\n",
       "      <td>4.0</td>\n",
       "    </tr>\n",
       "    <tr>\n",
       "      <th>2</th>\n",
       "      <td>Хазри</td>\n",
       "      <td>кафе</td>\n",
       "      <td>Москва, Клязьминская улица, 15</td>\n",
       "      <td>Северный административный округ</td>\n",
       "      <td>пн-чт 11:00–02:00; пт,сб 11:00–05:00; вс 11:00...</td>\n",
       "      <td>55.889146</td>\n",
       "      <td>37.525901</td>\n",
       "      <td>4.6</td>\n",
       "      <td>средние</td>\n",
       "      <td>Средний счёт:от 1000 ₽</td>\n",
       "      <td>1000.0</td>\n",
       "      <td>NaN</td>\n",
       "      <td>0</td>\n",
       "      <td>45.0</td>\n",
       "    </tr>\n",
       "    <tr>\n",
       "      <th>3</th>\n",
       "      <td>Dormouse Coffee Shop</td>\n",
       "      <td>кофейня</td>\n",
       "      <td>Москва, улица Маршала Федоренко, 12</td>\n",
       "      <td>Северный административный округ</td>\n",
       "      <td>ежедневно, 09:00–22:00</td>\n",
       "      <td>55.881608</td>\n",
       "      <td>37.488860</td>\n",
       "      <td>5.0</td>\n",
       "      <td>NaN</td>\n",
       "      <td>Цена чашки капучино:155–185 ₽</td>\n",
       "      <td>NaN</td>\n",
       "      <td>170.0</td>\n",
       "      <td>0</td>\n",
       "      <td>NaN</td>\n",
       "    </tr>\n",
       "    <tr>\n",
       "      <th>4</th>\n",
       "      <td>Иль Марко</td>\n",
       "      <td>пиццерия</td>\n",
       "      <td>Москва, Правобережная улица, 1Б</td>\n",
       "      <td>Северный административный округ</td>\n",
       "      <td>ежедневно, 10:00–22:00</td>\n",
       "      <td>55.881166</td>\n",
       "      <td>37.449357</td>\n",
       "      <td>5.0</td>\n",
       "      <td>средние</td>\n",
       "      <td>Средний счёт:400–600 ₽</td>\n",
       "      <td>500.0</td>\n",
       "      <td>NaN</td>\n",
       "      <td>1</td>\n",
       "      <td>148.0</td>\n",
       "    </tr>\n",
       "  </tbody>\n",
       "</table>\n",
       "</div>"
      ],
      "text/plain": [
       "                   name  category                              address  \\\n",
       "0                WoWфли      кафе           Москва, улица Дыбенко, 7/1   \n",
       "1        Четыре комнаты  ресторан   Москва, улица Дыбенко, 36, корп. 1   \n",
       "2                 Хазри      кафе       Москва, Клязьминская улица, 15   \n",
       "3  Dormouse Coffee Shop   кофейня  Москва, улица Маршала Федоренко, 12   \n",
       "4             Иль Марко  пиццерия      Москва, Правобережная улица, 1Б   \n",
       "\n",
       "                          district  \\\n",
       "0  Северный административный округ   \n",
       "1  Северный административный округ   \n",
       "2  Северный административный округ   \n",
       "3  Северный административный округ   \n",
       "4  Северный административный округ   \n",
       "\n",
       "                                               hours        lat        lng  \\\n",
       "0                             ежедневно, 10:00–22:00  55.878494  37.478860   \n",
       "1                             ежедневно, 10:00–22:00  55.875801  37.484479   \n",
       "2  пн-чт 11:00–02:00; пт,сб 11:00–05:00; вс 11:00...  55.889146  37.525901   \n",
       "3                             ежедневно, 09:00–22:00  55.881608  37.488860   \n",
       "4                             ежедневно, 10:00–22:00  55.881166  37.449357   \n",
       "\n",
       "   rating          price                       avg_bill  middle_avg_bill  \\\n",
       "0     5.0            NaN                            NaN              NaN   \n",
       "1     4.5  выше среднего       Средний счёт:1500–1600 ₽           1550.0   \n",
       "2     4.6        средние         Средний счёт:от 1000 ₽           1000.0   \n",
       "3     5.0            NaN  Цена чашки капучино:155–185 ₽              NaN   \n",
       "4     5.0        средние         Средний счёт:400–600 ₽            500.0   \n",
       "\n",
       "   middle_coffee_cup  chain  seats  \n",
       "0                NaN      0    NaN  \n",
       "1                NaN      0    4.0  \n",
       "2                NaN      0   45.0  \n",
       "3              170.0      0    NaN  \n",
       "4                NaN      1  148.0  "
      ]
     },
     "execution_count": 3,
     "metadata": {},
     "output_type": "execute_result"
    }
   ],
   "source": [
    "places.head()"
   ]
  },
  {
   "cell_type": "markdown",
   "id": "20e783d5",
   "metadata": {},
   "source": [
    "И выведем основную информацию о таблице"
   ]
  },
  {
   "cell_type": "code",
   "execution_count": 4,
   "id": "7cabc50e",
   "metadata": {},
   "outputs": [
    {
     "name": "stdout",
     "output_type": "stream",
     "text": [
      "<class 'pandas.core.frame.DataFrame'>\n",
      "RangeIndex: 8406 entries, 0 to 8405\n",
      "Data columns (total 14 columns):\n",
      " #   Column             Non-Null Count  Dtype  \n",
      "---  ------             --------------  -----  \n",
      " 0   name               8406 non-null   object \n",
      " 1   category           8406 non-null   object \n",
      " 2   address            8406 non-null   object \n",
      " 3   district           8406 non-null   object \n",
      " 4   hours              7870 non-null   object \n",
      " 5   lat                8406 non-null   float64\n",
      " 6   lng                8406 non-null   float64\n",
      " 7   rating             8406 non-null   float64\n",
      " 8   price              3315 non-null   object \n",
      " 9   avg_bill           3816 non-null   object \n",
      " 10  middle_avg_bill    3149 non-null   float64\n",
      " 11  middle_coffee_cup  535 non-null    float64\n",
      " 12  chain              8406 non-null   int64  \n",
      " 13  seats              4795 non-null   float64\n",
      "dtypes: float64(6), int64(1), object(7)\n",
      "memory usage: 919.5+ KB\n"
     ]
    }
   ],
   "source": [
    "places.info()"
   ]
  },
  {
   "cell_type": "markdown",
   "id": "9c896f06",
   "metadata": {},
   "source": [
    "Посмотрим сколько уникальных заведений у нас есть"
   ]
  },
  {
   "cell_type": "code",
   "execution_count": 5,
   "id": "1cdcc874",
   "metadata": {},
   "outputs": [
    {
     "data": {
      "text/plain": [
       "5614"
      ]
     },
     "execution_count": 5,
     "metadata": {},
     "output_type": "execute_result"
    }
   ],
   "source": [
    "places['name'].nunique()"
   ]
  },
  {
   "cell_type": "markdown",
   "id": "53ef63c7",
   "metadata": {},
   "source": [
    "Также стоит посмотреть распределение заведений по районам"
   ]
  },
  {
   "cell_type": "code",
   "execution_count": 6,
   "id": "443a2f3f",
   "metadata": {},
   "outputs": [
    {
     "data": {
      "text/plain": [
       "Центральный административный округ         2242\n",
       "Северный административный округ             900\n",
       "Южный административный округ                892\n",
       "Северо-Восточный административный округ     891\n",
       "Западный административный округ             851\n",
       "Восточный административный округ            798\n",
       "Юго-Восточный административный округ        714\n",
       "Юго-Западный административный округ         709\n",
       "Северо-Западный административный округ      409\n",
       "Name: district, dtype: int64"
      ]
     },
     "execution_count": 6,
     "metadata": {},
     "output_type": "execute_result"
    },
    {
     "data": {
      "image/png": "[encoded data removed]",
      "text/plain": [
       "<Figure size 640x480 with 1 Axes>"
      ]
     },
     "metadata": {},
     "output_type": "display_data"
    }
   ],
   "source": [
    "fig, ax = plt.subplots()\n",
    "\n",
    "okr = ['Центральный административный округ',\n",
    "       'Северный административный округ ',\n",
    "       'Южный административный округ',\n",
    "       'Северо-Восточный административный округ',\n",
    "       'Западный административный округ',\n",
    "       'Восточный административный округ',\n",
    "       'Юго-Восточный административный округ',\n",
    "       'Юго-Западный административный округ',\n",
    "       'Северо-Западный административный округ']\n",
    "sns.barplot(y = okr,x = places['district'].value_counts(), orient='h').set_title('Количество по районам')\n",
    "ax.set_xlabel('Количество')\n",
    "places['district'].value_counts()"
   ]
  },
  {
   "cell_type": "markdown",
   "id": "bca05414",
   "metadata": {},
   "source": [
    "Самое большое количество заведений находяться в ЦАО. Причем разрыв со вторым местом более чем в 2 раза. На кстати находится САО. ЮАО и СВАО находяться на 3 и 4 месте. И эти трое проктически равны по количеству заведений."
   ]
  },
  {
   "cell_type": "markdown",
   "id": "f0cc64d8",
   "metadata": {},
   "source": [
    "Количество сетевых заведений и не сетевых"
   ]
  },
  {
   "cell_type": "code",
   "execution_count": 7,
   "id": "778b76b4",
   "metadata": {},
   "outputs": [
    {
     "data": {
      "text/plain": [
       "0    5201\n",
       "1    3205\n",
       "Name: chain, dtype: int64"
      ]
     },
     "execution_count": 7,
     "metadata": {},
     "output_type": "execute_result"
    },
    {
     "data": {
      "image/png": "[encoded data removed]",
      "text/plain": [
       "<Figure size 300x300 with 1 Axes>"
      ]
     },
     "metadata": {},
     "output_type": "display_data"
    }
   ],
   "source": [
    "fig, ax = plt.subplots(figsize = (3,3))\n",
    "sns.barplot(x = ['Не сетвые', 'Сетевые'],y = places['chain'].value_counts())\n",
    "ax.set_ylabel('Количество')\n",
    "places['chain'].value_counts()"
   ]
  },
  {
   "cell_type": "markdown",
   "id": "b6a3ae94",
   "metadata": {},
   "source": [
    "Заведения которые не являются сетевыми превосходят сетевый более чем в 2 раза "
   ]
  },
  {
   "cell_type": "markdown",
   "id": "5ca2d31b-1248-48f2-8695-faf803466181",
   "metadata": {},
   "source": [
    "Также посмотрим распределение по ценовым категориям"
   ]
  },
  {
   "cell_type": "code",
   "execution_count": 8,
   "id": "e447053f",
   "metadata": {},
   "outputs": [
    {
     "data": {
      "text/plain": [
       "средние          2117\n",
       "выше среднего     564\n",
       "высокие           478\n",
       "низкие            156\n",
       "Name: price, dtype: int64"
      ]
     },
     "execution_count": 8,
     "metadata": {},
     "output_type": "execute_result"
    },
    {
     "data": {
      "image/png": "[encoded data removed]",
      "text/plain": [
       "<Figure size 600x400 with 1 Axes>"
      ]
     },
     "metadata": {},
     "output_type": "display_data"
    }
   ],
   "source": [
    "fig, ax = plt.subplots(figsize = (6,4))\n",
    "poi = ['средние','выше среднего','высокие','низкие']\n",
    "sns.barplot(x = poi,y = places['price'].value_counts())\n",
    "places['price'].value_counts()"
   ]
  },
  {
   "cell_type": "markdown",
   "id": "70f20c3d-20e0-4e66-b3d3-47cac4200604",
   "metadata": {},
   "source": [
    "Средний сегмент сильно впереди "
   ]
  },
  {
   "cell_type": "markdown",
   "id": "3bb80f57-1427-4c50-8a63-0660a7961c0c",
   "metadata": {
    "jp-MarkdownHeadingCollapsed": true,
    "tags": []
   },
   "source": [
    "## 2. Предобработка данных"
   ]
  },
  {
   "cell_type": "markdown",
   "id": "be54c4d8-54af-4daf-82d8-f77c006e8eeb",
   "metadata": {},
   "source": [
    "### Дубликаты"
   ]
  },
  {
   "cell_type": "code",
   "execution_count": 9,
   "id": "630d10a6-ccee-4919-b187-c141dd074963",
   "metadata": {
    "scrolled": true
   },
   "outputs": [
    {
     "data": {
      "text/plain": [
       "0"
      ]
     },
     "execution_count": 9,
     "metadata": {},
     "output_type": "execute_result"
    }
   ],
   "source": [
    "places.duplicated().sum()"
   ]
  },
  {
   "cell_type": "markdown",
   "id": "15b3d94e-9dea-4698-9127-5c17799f6b14",
   "metadata": {},
   "source": [
    "Полных дупликатов нет. Как мне кажется что из всех столбцов дубликатов не может быть только в столбцах долготы и широты. Проверим "
   ]
  },
  {
   "cell_type": "code",
   "execution_count": 10,
   "id": "136b6c58",
   "metadata": {},
   "outputs": [
    {
     "data": {
      "text/plain": [
       "34"
      ]
     },
     "execution_count": 10,
     "metadata": {},
     "output_type": "execute_result"
    }
   ],
   "source": [
    "places[['lat','lng']].duplicated().sum()"
   ]
  },
  {
   "cell_type": "markdown",
   "id": "70571025",
   "metadata": {},
   "source": [
    "Дубликаты есть, но их очень мало. Можем их просто удалить"
   ]
  },
  {
   "cell_type": "code",
   "execution_count": 11,
   "id": "c02e84cb",
   "metadata": {},
   "outputs": [],
   "source": [
    "places = places.loc[~places.duplicated(['lat', 'lng'])]"
   ]
  },
  {
   "cell_type": "markdown",
   "id": "16b3f810-2e37-40e1-9d23-be19e8baffa3",
   "metadata": {},
   "source": [
    "### Пропуски"
   ]
  },
  {
   "cell_type": "code",
   "execution_count": 12,
   "id": "cb95e6e7-b20f-4e86-92bc-ea13302c1ced",
   "metadata": {},
   "outputs": [
    {
     "data": {
      "text/html": [
       "<div>\n",
       "<style scoped>\n",
       "    .dataframe tbody tr th:only-of-type {\n",
       "        vertical-align: middle;\n",
       "    }\n",
       "\n",
       "    .dataframe tbody tr th {\n",
       "        vertical-align: top;\n",
       "    }\n",
       "\n",
       "    .dataframe thead th {\n",
       "        text-align: right;\n",
       "    }\n",
       "</style>\n",
       "<table border=\"1\" class=\"dataframe\">\n",
       "  <thead>\n",
       "    <tr style=\"text-align: right;\">\n",
       "      <th></th>\n",
       "      <th>0</th>\n",
       "    </tr>\n",
       "  </thead>\n",
       "  <tbody>\n",
       "    <tr>\n",
       "      <th>name</th>\n",
       "      <td>0</td>\n",
       "    </tr>\n",
       "    <tr>\n",
       "      <th>category</th>\n",
       "      <td>0</td>\n",
       "    </tr>\n",
       "    <tr>\n",
       "      <th>address</th>\n",
       "      <td>0</td>\n",
       "    </tr>\n",
       "    <tr>\n",
       "      <th>district</th>\n",
       "      <td>0</td>\n",
       "    </tr>\n",
       "    <tr>\n",
       "      <th>hours</th>\n",
       "      <td>534</td>\n",
       "    </tr>\n",
       "    <tr>\n",
       "      <th>lat</th>\n",
       "      <td>0</td>\n",
       "    </tr>\n",
       "    <tr>\n",
       "      <th>lng</th>\n",
       "      <td>0</td>\n",
       "    </tr>\n",
       "    <tr>\n",
       "      <th>rating</th>\n",
       "      <td>0</td>\n",
       "    </tr>\n",
       "    <tr>\n",
       "      <th>price</th>\n",
       "      <td>5063</td>\n",
       "    </tr>\n",
       "    <tr>\n",
       "      <th>avg_bill</th>\n",
       "      <td>4564</td>\n",
       "    </tr>\n",
       "    <tr>\n",
       "      <th>middle_avg_bill</th>\n",
       "      <td>5231</td>\n",
       "    </tr>\n",
       "    <tr>\n",
       "      <th>middle_coffee_cup</th>\n",
       "      <td>7837</td>\n",
       "    </tr>\n",
       "    <tr>\n",
       "      <th>chain</th>\n",
       "      <td>0</td>\n",
       "    </tr>\n",
       "    <tr>\n",
       "      <th>seats</th>\n",
       "      <td>3600</td>\n",
       "    </tr>\n",
       "  </tbody>\n",
       "</table>\n",
       "</div>"
      ],
      "text/plain": [
       "                      0\n",
       "name                  0\n",
       "category              0\n",
       "address               0\n",
       "district              0\n",
       "hours               534\n",
       "lat                   0\n",
       "lng                   0\n",
       "rating                0\n",
       "price              5063\n",
       "avg_bill           4564\n",
       "middle_avg_bill    5231\n",
       "middle_coffee_cup  7837\n",
       "chain                 0\n",
       "seats              3600"
      ]
     },
     "execution_count": 12,
     "metadata": {},
     "output_type": "execute_result"
    }
   ],
   "source": [
    "places.isna().sum().to_frame()"
   ]
  },
  {
   "cell_type": "markdown",
   "id": "b1ad08fe-5c22-49ef-957b-d473a8199ad0",
   "metadata": {},
   "source": [
    "Пропуски есть. Первый столбец в котором есть пропуски, это столбец hours (часы работы). В этом столбце не так много пропусков. "
   ]
  },
  {
   "cell_type": "code",
   "execution_count": 13,
   "id": "1af28bdf",
   "metadata": {},
   "outputs": [
    {
     "data": {
      "text/plain": [
       "средние          2114\n",
       "выше среднего     561\n",
       "высокие           478\n",
       "низкие            156\n",
       "Name: price, dtype: int64"
      ]
     },
     "execution_count": 13,
     "metadata": {},
     "output_type": "execute_result"
    }
   ],
   "source": [
    "places['price'].value_counts()"
   ]
  },
  {
   "cell_type": "markdown",
   "id": "a63b13b2-1122-4602-a516-d7e532aa6bd2",
   "metadata": {},
   "source": [
    "### Создаем столбец с названиями улиц   "
   ]
  },
  {
   "cell_type": "code",
   "execution_count": 14,
   "id": "4cee7f7c",
   "metadata": {},
   "outputs": [],
   "source": [
    "### взял готовый вариант со stackoverflow\n",
    "words = ['улица','ул','переулок','шоссе','проспект','площадь','проезд',\n",
    "         'село','аллея','бульвар','набережная','тупик','линия']\n",
    "str_pat = r\".*,\\s*\\b([^,]*?(?:{})\\b[^,]*)[,$]+\".format(\"|\".join(words))\n",
    "places['street'] = places[\"address\"].str.extract(str_pat)"
   ]
  },
  {
   "cell_type": "markdown",
   "id": "0d2ac1c6-7c1d-4526-a9ed-acae58f7be37",
   "metadata": {},
   "source": [
    "### Создаем стобец с обазначением круглосуточной работы"
   ]
  },
  {
   "cell_type": "code",
   "execution_count": 15,
   "id": "2bc63790-1ee7-4cc4-a337-c95a72db6929",
   "metadata": {},
   "outputs": [],
   "source": [
    "def is_24(hours):\n",
    "    if 'ежедневно, круглосуточно' == hours:\n",
    "        return True\n",
    "    else:\n",
    "        return False\n",
    "places['is_24/7'] = places['hours'].apply(is_24)"
   ]
  },
  {
   "cell_type": "markdown",
   "id": "0ddc8f67-2da9-4b3e-acb3-c447c184013f",
   "metadata": {
    "tags": []
   },
   "source": [
    "## 3. Анализ данных"
   ]
  },
  {
   "cell_type": "markdown",
   "id": "4c3a681c-db0c-4325-920a-8540d5ea124c",
   "metadata": {},
   "source": [
    "### Распределение по категориям"
   ]
  },
  {
   "cell_type": "code",
   "execution_count": 16,
   "id": "365862c3-6b23-4ab4-859a-a4b987304112",
   "metadata": {},
   "outputs": [
    {
     "data": {
      "text/plain": [
       "кафе               2360\n",
       "ресторан           2035\n",
       "кофейня            1412\n",
       "бар,паб             765\n",
       "пиццерия            631\n",
       "быстрое питание     599\n",
       "столовая            315\n",
       "булочная            255\n",
       "Name: category, dtype: int64"
      ]
     },
     "execution_count": 16,
     "metadata": {},
     "output_type": "execute_result"
    },
    {
     "data": {
      "image/png": "[encoded data removed]",
      "text/plain": [
       "<Figure size 1200x500 with 1 Axes>"
      ]
     },
     "metadata": {},
     "output_type": "display_data"
    }
   ],
   "source": [
    "types = places['category'].unique()\n",
    "fig, ax = plt.subplots(figsize=(12, 5))\n",
    "sns.barplot(x = types, y = places['category'].value_counts()).set_title('Количество по категориям')\n",
    "ax.set_ylabel('Количество')\n",
    "places['category'].value_counts()"
   ]
  },
  {
   "cell_type": "markdown",
   "id": "1010675c-2008-4420-a24d-14d36a0dd14c",
   "metadata": {},
   "source": []
  },
  {
   "cell_type": "markdown",
   "id": "d4954faf-2f6d-44e8-81d0-e9cd81daacdb",
   "metadata": {},
   "source": [
    "### Количество посадочных мест по категориям"
   ]
  },
  {
   "cell_type": "code",
   "execution_count": 20,
   "id": "149084ec-7c6e-4974-b403-9a938bf088e2",
   "metadata": {},
   "outputs": [
    {
     "data": {
      "text/html": [
       "<div>\n",
       "<style scoped>\n",
       "    .dataframe tbody tr th:only-of-type {\n",
       "        vertical-align: middle;\n",
       "    }\n",
       "\n",
       "    .dataframe tbody tr th {\n",
       "        vertical-align: top;\n",
       "    }\n",
       "\n",
       "    .dataframe thead th {\n",
       "        text-align: right;\n",
       "    }\n",
       "</style>\n",
       "<table border=\"1\" class=\"dataframe\">\n",
       "  <thead>\n",
       "    <tr style=\"text-align: right;\">\n",
       "      <th></th>\n",
       "      <th>mean</th>\n",
       "      <th>median</th>\n",
       "      <th>sum</th>\n",
       "    </tr>\n",
       "    <tr>\n",
       "      <th>category</th>\n",
       "      <th></th>\n",
       "      <th></th>\n",
       "      <th></th>\n",
       "    </tr>\n",
       "  </thead>\n",
       "  <tbody>\n",
       "    <tr>\n",
       "      <th>бар,паб</th>\n",
       "      <td>124.532051</td>\n",
       "      <td>82.5</td>\n",
       "      <td>58281.0</td>\n",
       "    </tr>\n",
       "    <tr>\n",
       "      <th>булочная</th>\n",
       "      <td>89.312925</td>\n",
       "      <td>50.0</td>\n",
       "      <td>13129.0</td>\n",
       "    </tr>\n",
       "    <tr>\n",
       "      <th>быстрое питание</th>\n",
       "      <td>98.657971</td>\n",
       "      <td>65.0</td>\n",
       "      <td>34037.0</td>\n",
       "    </tr>\n",
       "    <tr>\n",
       "      <th>кафе</th>\n",
       "      <td>96.055510</td>\n",
       "      <td>60.0</td>\n",
       "      <td>115939.0</td>\n",
       "    </tr>\n",
       "    <tr>\n",
       "      <th>кофейня</th>\n",
       "      <td>111.174667</td>\n",
       "      <td>80.0</td>\n",
       "      <td>83381.0</td>\n",
       "    </tr>\n",
       "    <tr>\n",
       "      <th>пиццерия</th>\n",
       "      <td>94.530516</td>\n",
       "      <td>53.5</td>\n",
       "      <td>40270.0</td>\n",
       "    </tr>\n",
       "    <tr>\n",
       "      <th>ресторан</th>\n",
       "      <td>121.592095</td>\n",
       "      <td>86.0</td>\n",
       "      <td>153814.0</td>\n",
       "    </tr>\n",
       "    <tr>\n",
       "      <th>столовая</th>\n",
       "      <td>99.750000</td>\n",
       "      <td>75.5</td>\n",
       "      <td>16359.0</td>\n",
       "    </tr>\n",
       "  </tbody>\n",
       "</table>\n",
       "</div>"
      ],
      "text/plain": [
       "                       mean  median       sum\n",
       "category                                     \n",
       "бар,паб          124.532051    82.5   58281.0\n",
       "булочная          89.312925    50.0   13129.0\n",
       "быстрое питание   98.657971    65.0   34037.0\n",
       "кафе              96.055510    60.0  115939.0\n",
       "кофейня          111.174667    80.0   83381.0\n",
       "пиццерия          94.530516    53.5   40270.0\n",
       "ресторан         121.592095    86.0  153814.0\n",
       "столовая          99.750000    75.5   16359.0"
      ]
     },
     "execution_count": 20,
     "metadata": {},
     "output_type": "execute_result"
    }
   ],
   "source": [
    "pl_per_cat = places.pivot_table(index = 'category', values = 'seats', aggfunc = ('sum', 'mean', 'median'))\n",
    "pl_per_cat"
   ]
  },
  {
   "cell_type": "code",
   "execution_count": null,
   "id": "3ecc9640-d730-4696-9603-efe7ebf1bdac",
   "metadata": {},
   "outputs": [],
   "source": []
  },
  {
   "cell_type": "markdown",
   "id": "8a1b8508-9283-4ec1-982d-93225018bf07",
   "metadata": {},
   "source": [
    "### Соотношение сетевых и не сетевых"
   ]
  },
  {
   "cell_type": "markdown",
   "id": "3fdc55cc-f54b-43dc-8bca-29af2bec8662",
   "metadata": {},
   "source": [
    "### Какие категории заведений чаще являются сетевыми?"
   ]
  },
  {
   "cell_type": "markdown",
   "id": "8c15f4cf-fb9b-46ef-9972-c527f3f7fb71",
   "metadata": {},
   "source": [
    "### Топ 15 популярных сетей в Москве"
   ]
  },
  {
   "cell_type": "markdown",
   "id": "d839016d-4a25-447b-a901-d7daff0e7d38",
   "metadata": {},
   "source": [
    "### Административные районы "
   ]
  },
  {
   "cell_type": "markdown",
   "id": "602981d4-e6e9-45df-8f46-94aa05701d4b",
   "metadata": {},
   "source": [
    "### Распеределение средних рейтингов"
   ]
  },
  {
   "cell_type": "markdown",
   "id": "df00b52a-7724-4b60-b673-45d954c82102",
   "metadata": {},
   "source": [
    "### Фоновая картограмма"
   ]
  },
  {
   "cell_type": "markdown",
   "id": "4b45e958-3f3c-455b-b90f-6b59fd0ed42b",
   "metadata": {},
   "source": [
    "### Топ-15 улиц по количеству заведений"
   ]
  },
  {
   "cell_type": "markdown",
   "id": "f1ced9fe-09f0-4732-b865-4b4eb844692e",
   "metadata": {},
   "source": [
    "### Улицы, на которых находится только один объект общепита. "
   ]
  },
  {
   "cell_type": "markdown",
   "id": "b9b13274-1241-43d4-8be0-b8c7a2d6989e",
   "metadata": {},
   "source": [
    "###"
   ]
  },
  {
   "cell_type": "markdown",
   "id": "7fa73014-f463-4458-8383-f86895a72ec2",
   "metadata": {
    "jp-MarkdownHeadingCollapsed": true,
    "tags": []
   },
   "source": [
    "## 4 Детализируем иследование"
   ]
  },
  {
   "cell_type": "markdown",
   "id": "53b2e71e-db3b-4dc0-98e0-49aa8f86f5b6",
   "metadata": {},
   "source": [
    "### Сколько всего кофеен в датасете?"
   ]
  },
  {
   "cell_type": "markdown",
   "id": "079070ac-1378-4acf-82a8-18893a98dc47",
   "metadata": {},
   "source": [
    "### В каких районах их больше всего, каковы особенности их расположения?"
   ]
  },
  {
   "cell_type": "markdown",
   "id": "4e865c27-cf9c-4cc5-8665-bb4baea2adc8",
   "metadata": {},
   "source": [
    "### Есть ли круглосуточные кофейни?"
   ]
  },
  {
   "cell_type": "markdown",
   "id": "dd3f2b2c-2dec-41e9-af2d-0ce5872376e8",
   "metadata": {},
   "source": [
    "### Какие у кофеен рейтинги? Как они распределяются по районам?"
   ]
  },
  {
   "cell_type": "markdown",
   "id": "1552da84-6e66-41de-86b5-0c5230e3186b",
   "metadata": {},
   "source": [
    "### На какую стоимость чашки капучино стоит ориентироваться при открытии и почему?"
   ]
  },
  {
   "cell_type": "markdown",
   "id": "2de47c8c-83ad-42b9-8485-32eb1716941e",
   "metadata": {
    "jp-MarkdownHeadingCollapsed": true,
    "tags": []
   },
   "source": [
    "## 5. Подготовка презентации"
   ]
  },
  {
   "cell_type": "markdown",
   "id": "7dff1ee7-8ac2-4416-9aa7-bc79ea5ffc21",
   "metadata": {},
   "source": [
    "Презентация: <ссылка на облачное хранилище с презентацией> "
   ]
  }
 ],
 "metadata": {
  "kernelspec": {
   "display_name": "Python 3 (ipykernel)",
   "language": "python",
   "name": "python3"
  },
  "language_info": {
   "codemirror_mode": {
    "name": "ipython",
    "version": 3
   },
   "file_extension": ".py",
   "mimetype": "text/x-python",
   "name": "python",
   "nbconvert_exporter": "python",
   "pygments_lexer": "ipython3",
   "version": "3.10.9"
  }
 },
 "nbformat": 4,
 "nbformat_minor": 5
}
