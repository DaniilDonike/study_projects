{
 "cells": [
  {
   "cell_type": "markdown",
   "id": "10828177",
   "metadata": {},
   "source": [
    "# Финальный проект. Декомпозиция"
   ]
  },
  {
   "cell_type": "markdown",
   "id": "5eb3c33d",
   "metadata": {},
   "source": [
    "## Описание проекта"
   ]
  },
  {
   "cell_type": "markdown",
   "id": "309856f6",
   "metadata": {},
   "source": [
    "Датасет содержит данные о событиях, совершенных в мобильном приложении \"Ненужные вещи\". В нем пользователи продают свои ненужные вещи, размещая их на доске объявлений.\n",
    "В датасете содержатся данные пользователей, впервые совершивших действия в\n",
    "приложении после 7 октября 2019 года.\n",
    "\n",
    "Колонки в /datasets/mobile_sources.csv :\n",
    "- userId — идентификатор пользователя,\n",
    "- source — источник, с которого пользователь установил приложение.\n",
    "<br>\n",
    "\n",
    "Колонки в /datasets/mobile_dataset.csv :\n",
    "- event.time — время совершения,\n",
    "- user.id — идентификатор пользователя,\n",
    "- event.name — действие пользователя.\n",
    "<br>\n",
    "\n",
    "Виды действий:\n",
    "- advert_open — открыл карточки объявления,\n",
    "- photos_show — просмотрел фотографий в объявлении,\n",
    "- tips_show — увидел рекомендованные объявления,\n",
    "- tips_click — кликнул по рекомендованному объявлению,\n",
    "- contacts_show и show_contacts — посмотрел номер телефона,\n",
    "- contacts_call — позвонил по номеру из объявления,\n",
    "- map — открыл карту объявлений,\n",
    "- search_1 — search_7 — разные действия, связанные с поиском по сайту,\n",
    "- favorites_add — добавил объявление в избранное."
   ]
  },
  {
   "cell_type": "markdown",
   "id": "05866cce",
   "metadata": {},
   "source": [
    "## Задачи проекта"
   ]
  },
  {
   "cell_type": "markdown",
   "id": "325d87c3",
   "metadata": {},
   "source": [
    "1. Проанализировать связь целевого события — просмотра контактов — и других действий пользователей.\n",
    "2. Оценить, какие действия чаще совершают те пользователи, которые просматривают контакты."
   ]
  },
  {
   "cell_type": "markdown",
   "id": "0977edaf",
   "metadata": {},
   "source": [
    "## Цели"
   ]
  },
  {
   "cell_type": "markdown",
   "id": "c91bcc73",
   "metadata": {},
   "source": [
    "Анализ поведения пользователей приложения \"Ненужные вещи\" для увеличения конверсии в целевое действие, что в свою очередь увеличит вовлеченость"
   ]
  },
  {
   "cell_type": "markdown",
   "id": "2cfb2101",
   "metadata": {},
   "source": [
    "## Структура проекта"
   ]
  },
  {
   "cell_type": "markdown",
   "id": "44a83f5d",
   "metadata": {},
   "source": [
    "\n",
    "\n",
    "\n",
    "- __Знакомство с данными__\n",
    "- __Предобработка данных__ \n",
    "    - Проверка дубликатов \n",
    "    - Проверка пропусков \n",
    "    - Типы данных\n",
    "    - Названия столбцов\n",
    "- __Иследовательский анализ данных__\n",
    "    - Время проведеное в приложении\n",
    "    - Retention Rate\n",
    "- __Основные вопросы иследования__\n",
    "    - В разрезе сессий отобрать сценарии, которые приводят к просмотру контактов\n",
    "    - Строим воронки по основным сценариям в разрезе уникальных пользователей\n",
    "    - Различия длитильности сессии с просмотром номера и без\n",
    "    - Рассчитываем относительную частоту событий для тех кто смотрел контакты и тех кто не смотрел\n",
    "    \n",
    "\n",
    "\n",
    "- __Проверка гипотиз__\n",
    "    - Одни пользователи совершают действия tips_show и tips_click, другие – только tips_show. Проверить гипотезу, что конверсия в просмотр контактов различается у этих двух групп.\n",
    "    - Различается ли конверсия в целевое действие пользователей, которые добавляют объявление в избраное, от тех кто не добавляет."
   ]
  },
  {
   "cell_type": "markdown",
   "id": "b189cce4",
   "metadata": {},
   "source": [
    "## Знакомство с данными"
   ]
  },
  {
   "cell_type": "markdown",
   "id": "e29c9648",
   "metadata": {},
   "source": [
    "Импортируем необходимые библиотеки"
   ]
  },
  {
   "cell_type": "code",
   "execution_count": 2,
   "id": "fbc30cb2",
   "metadata": {},
   "outputs": [],
   "source": [
    "import pandas as pd\n",
    "import seaborn as sns\n",
    "import matplotlib.pyplot as plt"
   ]
  },
  {
   "cell_type": "markdown",
   "id": "c56e8ca4",
   "metadata": {},
   "source": [
    "Далее загружаем датасеты и смотрим по пять строк каждого из них"
   ]
  },
  {
   "cell_type": "code",
   "execution_count": 3,
   "id": "b2b09fca",
   "metadata": {},
   "outputs": [],
   "source": [
    "dataset = pd.read_csv('https://code.s3.yandex.net/datasets/mobile_dataset.csv')\n",
    "sources = pd.read_csv('https://code.s3.yandex.net/datasets/mobile_sources.csv')"
   ]
  },
  {
   "cell_type": "code",
   "execution_count": 4,
   "id": "16d1f909",
   "metadata": {},
   "outputs": [
    {
     "data": {
      "text/html": [
       "<div>\n",
       "<style scoped>\n",
       "    .dataframe tbody tr th:only-of-type {\n",
       "        vertical-align: middle;\n",
       "    }\n",
       "\n",
       "    .dataframe tbody tr th {\n",
       "        vertical-align: top;\n",
       "    }\n",
       "\n",
       "    .dataframe thead th {\n",
       "        text-align: right;\n",
       "    }\n",
       "</style>\n",
       "<table border=\"1\" class=\"dataframe\">\n",
       "  <thead>\n",
       "    <tr style=\"text-align: right;\">\n",
       "      <th></th>\n",
       "      <th>event.time</th>\n",
       "      <th>event.name</th>\n",
       "      <th>user.id</th>\n",
       "    </tr>\n",
       "  </thead>\n",
       "  <tbody>\n",
       "    <tr>\n",
       "      <th>0</th>\n",
       "      <td>2019-10-07 00:00:00.431357</td>\n",
       "      <td>advert_open</td>\n",
       "      <td>020292ab-89bc-4156-9acf-68bc2783f894</td>\n",
       "    </tr>\n",
       "    <tr>\n",
       "      <th>1</th>\n",
       "      <td>2019-10-07 00:00:01.236320</td>\n",
       "      <td>tips_show</td>\n",
       "      <td>020292ab-89bc-4156-9acf-68bc2783f894</td>\n",
       "    </tr>\n",
       "    <tr>\n",
       "      <th>2</th>\n",
       "      <td>2019-10-07 00:00:02.245341</td>\n",
       "      <td>tips_show</td>\n",
       "      <td>cf7eda61-9349-469f-ac27-e5b6f5ec475c</td>\n",
       "    </tr>\n",
       "    <tr>\n",
       "      <th>3</th>\n",
       "      <td>2019-10-07 00:00:07.039334</td>\n",
       "      <td>tips_show</td>\n",
       "      <td>020292ab-89bc-4156-9acf-68bc2783f894</td>\n",
       "    </tr>\n",
       "    <tr>\n",
       "      <th>4</th>\n",
       "      <td>2019-10-07 00:00:56.319813</td>\n",
       "      <td>advert_open</td>\n",
       "      <td>cf7eda61-9349-469f-ac27-e5b6f5ec475c</td>\n",
       "    </tr>\n",
       "    <tr>\n",
       "      <th>...</th>\n",
       "      <td>...</td>\n",
       "      <td>...</td>\n",
       "      <td>...</td>\n",
       "    </tr>\n",
       "    <tr>\n",
       "      <th>74192</th>\n",
       "      <td>2019-11-03 23:53:29.534986</td>\n",
       "      <td>tips_show</td>\n",
       "      <td>28fccdf4-7b9e-42f5-bc73-439a265f20e9</td>\n",
       "    </tr>\n",
       "    <tr>\n",
       "      <th>74193</th>\n",
       "      <td>2019-11-03 23:54:00.407086</td>\n",
       "      <td>tips_show</td>\n",
       "      <td>28fccdf4-7b9e-42f5-bc73-439a265f20e9</td>\n",
       "    </tr>\n",
       "    <tr>\n",
       "      <th>74194</th>\n",
       "      <td>2019-11-03 23:56:57.041825</td>\n",
       "      <td>search_1</td>\n",
       "      <td>20850c8f-4135-4059-b13b-198d3ac59902</td>\n",
       "    </tr>\n",
       "    <tr>\n",
       "      <th>74195</th>\n",
       "      <td>2019-11-03 23:57:06.232189</td>\n",
       "      <td>tips_show</td>\n",
       "      <td>28fccdf4-7b9e-42f5-bc73-439a265f20e9</td>\n",
       "    </tr>\n",
       "    <tr>\n",
       "      <th>74196</th>\n",
       "      <td>2019-11-03 23:58:12.532487</td>\n",
       "      <td>tips_show</td>\n",
       "      <td>28fccdf4-7b9e-42f5-bc73-439a265f20e9</td>\n",
       "    </tr>\n",
       "  </tbody>\n",
       "</table>\n",
       "<p>74197 rows × 3 columns</p>\n",
       "</div>"
      ],
      "text/plain": [
       "                       event.time   event.name  \\\n",
       "0      2019-10-07 00:00:00.431357  advert_open   \n",
       "1      2019-10-07 00:00:01.236320    tips_show   \n",
       "2      2019-10-07 00:00:02.245341    tips_show   \n",
       "3      2019-10-07 00:00:07.039334    tips_show   \n",
       "4      2019-10-07 00:00:56.319813  advert_open   \n",
       "...                           ...          ...   \n",
       "74192  2019-11-03 23:53:29.534986    tips_show   \n",
       "74193  2019-11-03 23:54:00.407086    tips_show   \n",
       "74194  2019-11-03 23:56:57.041825     search_1   \n",
       "74195  2019-11-03 23:57:06.232189    tips_show   \n",
       "74196  2019-11-03 23:58:12.532487    tips_show   \n",
       "\n",
       "                                    user.id  \n",
       "0      020292ab-89bc-4156-9acf-68bc2783f894  \n",
       "1      020292ab-89bc-4156-9acf-68bc2783f894  \n",
       "2      cf7eda61-9349-469f-ac27-e5b6f5ec475c  \n",
       "3      020292ab-89bc-4156-9acf-68bc2783f894  \n",
       "4      cf7eda61-9349-469f-ac27-e5b6f5ec475c  \n",
       "...                                     ...  \n",
       "74192  28fccdf4-7b9e-42f5-bc73-439a265f20e9  \n",
       "74193  28fccdf4-7b9e-42f5-bc73-439a265f20e9  \n",
       "74194  20850c8f-4135-4059-b13b-198d3ac59902  \n",
       "74195  28fccdf4-7b9e-42f5-bc73-439a265f20e9  \n",
       "74196  28fccdf4-7b9e-42f5-bc73-439a265f20e9  \n",
       "\n",
       "[74197 rows x 3 columns]"
      ]
     },
     "execution_count": 4,
     "metadata": {},
     "output_type": "execute_result"
    }
   ],
   "source": [
    "dataset"
   ]
  },
  {
   "cell_type": "code",
   "execution_count": 5,
   "id": "6a24ab6e",
   "metadata": {},
   "outputs": [
    {
     "data": {
      "text/html": [
       "<div>\n",
       "<style scoped>\n",
       "    .dataframe tbody tr th:only-of-type {\n",
       "        vertical-align: middle;\n",
       "    }\n",
       "\n",
       "    .dataframe tbody tr th {\n",
       "        vertical-align: top;\n",
       "    }\n",
       "\n",
       "    .dataframe thead th {\n",
       "        text-align: right;\n",
       "    }\n",
       "</style>\n",
       "<table border=\"1\" class=\"dataframe\">\n",
       "  <thead>\n",
       "    <tr style=\"text-align: right;\">\n",
       "      <th></th>\n",
       "      <th>userId</th>\n",
       "      <th>source</th>\n",
       "    </tr>\n",
       "  </thead>\n",
       "  <tbody>\n",
       "    <tr>\n",
       "      <th>0</th>\n",
       "      <td>020292ab-89bc-4156-9acf-68bc2783f894</td>\n",
       "      <td>other</td>\n",
       "    </tr>\n",
       "    <tr>\n",
       "      <th>1</th>\n",
       "      <td>cf7eda61-9349-469f-ac27-e5b6f5ec475c</td>\n",
       "      <td>yandex</td>\n",
       "    </tr>\n",
       "    <tr>\n",
       "      <th>2</th>\n",
       "      <td>8c356c42-3ba9-4cb6-80b8-3f868d0192c3</td>\n",
       "      <td>yandex</td>\n",
       "    </tr>\n",
       "    <tr>\n",
       "      <th>3</th>\n",
       "      <td>d9b06b47-0f36-419b-bbb0-3533e582a6cb</td>\n",
       "      <td>other</td>\n",
       "    </tr>\n",
       "    <tr>\n",
       "      <th>4</th>\n",
       "      <td>f32e1e2a-3027-4693-b793-b7b3ff274439</td>\n",
       "      <td>google</td>\n",
       "    </tr>\n",
       "    <tr>\n",
       "      <th>...</th>\n",
       "      <td>...</td>\n",
       "      <td>...</td>\n",
       "    </tr>\n",
       "    <tr>\n",
       "      <th>4288</th>\n",
       "      <td>b86fe56e-f2de-4f8a-b192-cd89a37ecd41</td>\n",
       "      <td>yandex</td>\n",
       "    </tr>\n",
       "    <tr>\n",
       "      <th>4289</th>\n",
       "      <td>424c0ae1-3ea3-4f1e-a814-6bac73e48ab1</td>\n",
       "      <td>yandex</td>\n",
       "    </tr>\n",
       "    <tr>\n",
       "      <th>4290</th>\n",
       "      <td>437a4cd4-9ba9-457f-8614-d142bc48fbeb</td>\n",
       "      <td>yandex</td>\n",
       "    </tr>\n",
       "    <tr>\n",
       "      <th>4291</th>\n",
       "      <td>c10055f0-0b47-477a-869e-d391b31fdf8f</td>\n",
       "      <td>yandex</td>\n",
       "    </tr>\n",
       "    <tr>\n",
       "      <th>4292</th>\n",
       "      <td>d157bffc-264d-4464-8220-1cc0c42f43a9</td>\n",
       "      <td>google</td>\n",
       "    </tr>\n",
       "  </tbody>\n",
       "</table>\n",
       "<p>4293 rows × 2 columns</p>\n",
       "</div>"
      ],
      "text/plain": [
       "                                    userId  source\n",
       "0     020292ab-89bc-4156-9acf-68bc2783f894   other\n",
       "1     cf7eda61-9349-469f-ac27-e5b6f5ec475c  yandex\n",
       "2     8c356c42-3ba9-4cb6-80b8-3f868d0192c3  yandex\n",
       "3     d9b06b47-0f36-419b-bbb0-3533e582a6cb   other\n",
       "4     f32e1e2a-3027-4693-b793-b7b3ff274439  google\n",
       "...                                    ...     ...\n",
       "4288  b86fe56e-f2de-4f8a-b192-cd89a37ecd41  yandex\n",
       "4289  424c0ae1-3ea3-4f1e-a814-6bac73e48ab1  yandex\n",
       "4290  437a4cd4-9ba9-457f-8614-d142bc48fbeb  yandex\n",
       "4291  c10055f0-0b47-477a-869e-d391b31fdf8f  yandex\n",
       "4292  d157bffc-264d-4464-8220-1cc0c42f43a9  google\n",
       "\n",
       "[4293 rows x 2 columns]"
      ]
     },
     "execution_count": 5,
     "metadata": {},
     "output_type": "execute_result"
    }
   ],
   "source": [
    "sources"
   ]
  },
  {
   "cell_type": "markdown",
   "id": "c3a9d9c4",
   "metadata": {},
   "source": [
    "Смотрим основную информацию "
   ]
  },
  {
   "cell_type": "code",
   "execution_count": 6,
   "id": "3c48754c",
   "metadata": {},
   "outputs": [
    {
     "name": "stdout",
     "output_type": "stream",
     "text": [
      "<class 'pandas.core.frame.DataFrame'>\n",
      "RangeIndex: 74197 entries, 0 to 74196\n",
      "Data columns (total 3 columns):\n",
      " #   Column      Non-Null Count  Dtype \n",
      "---  ------      --------------  ----- \n",
      " 0   event.time  74197 non-null  object\n",
      " 1   event.name  74197 non-null  object\n",
      " 2   user.id     74197 non-null  object\n",
      "dtypes: object(3)\n",
      "memory usage: 1.7+ MB\n"
     ]
    }
   ],
   "source": [
    "dataset.info()"
   ]
  },
  {
   "cell_type": "code",
   "execution_count": 7,
   "id": "73f73bf8",
   "metadata": {},
   "outputs": [
    {
     "name": "stdout",
     "output_type": "stream",
     "text": [
      "<class 'pandas.core.frame.DataFrame'>\n",
      "RangeIndex: 4293 entries, 0 to 4292\n",
      "Data columns (total 2 columns):\n",
      " #   Column  Non-Null Count  Dtype \n",
      "---  ------  --------------  ----- \n",
      " 0   userId  4293 non-null   object\n",
      " 1   source  4293 non-null   object\n",
      "dtypes: object(2)\n",
      "memory usage: 67.2+ KB\n"
     ]
    }
   ],
   "source": [
    "sources.info()"
   ]
  },
  {
   "cell_type": "markdown",
   "id": "2afad739",
   "metadata": {},
   "source": [
    "### Вывод"
   ]
  },
  {
   "cell_type": "markdown",
   "id": "d2f576bf",
   "metadata": {},
   "source": []
  },
  {
   "cell_type": "markdown",
   "id": "6624183d",
   "metadata": {},
   "source": [
    "## Предобработка данных"
   ]
  },
  {
   "cell_type": "markdown",
   "id": "e44d00f1",
   "metadata": {},
   "source": [
    "### Проверка дубликатов"
   ]
  },
  {
   "cell_type": "markdown",
   "id": "f8bee8bd",
   "metadata": {},
   "source": [
    "Проверим на полные дубликаты"
   ]
  },
  {
   "cell_type": "code",
   "execution_count": 8,
   "id": "359bb45b",
   "metadata": {},
   "outputs": [
    {
     "data": {
      "text/plain": [
       "0"
      ]
     },
     "execution_count": 8,
     "metadata": {},
     "output_type": "execute_result"
    }
   ],
   "source": [
    "dataset.duplicated().sum()"
   ]
  },
  {
   "cell_type": "markdown",
   "id": "65d1293a",
   "metadata": {},
   "source": [
    "И вторую таблицу тоже"
   ]
  },
  {
   "cell_type": "code",
   "execution_count": 9,
   "id": "769e8ad6",
   "metadata": {},
   "outputs": [
    {
     "data": {
      "text/plain": [
       "0"
      ]
     },
     "execution_count": 9,
     "metadata": {},
     "output_type": "execute_result"
    }
   ],
   "source": [
    "sources.duplicated().sum()"
   ]
  },
  {
   "cell_type": "markdown",
   "id": "de13ed8a",
   "metadata": {},
   "source": [
    "Полные дубликаты отсутствуют в обеих таблицах. В столбце event_name у нас есть такие действия как contacts_show и show_contacts. Так как это одно и тоже, объединим их в одно целое."
   ]
  },
  {
   "cell_type": "code",
   "execution_count": 10,
   "id": "78dee5ae",
   "metadata": {},
   "outputs": [],
   "source": [
    "dataset['event.name'] = dataset['event.name'].replace('show_contacts','contacts_show')"
   ]
  },
  {
   "cell_type": "markdown",
   "id": "ee5b9fdd",
   "metadata": {},
   "source": [
    "## Проверка пропусков"
   ]
  },
  {
   "cell_type": "code",
   "execution_count": 11,
   "id": "4c1db9e2",
   "metadata": {},
   "outputs": [
    {
     "data": {
      "text/plain": [
       "event.time    0\n",
       "event.name    0\n",
       "user.id       0\n",
       "dtype: int64"
      ]
     },
     "execution_count": 11,
     "metadata": {},
     "output_type": "execute_result"
    }
   ],
   "source": [
    "dataset.isna().sum()"
   ]
  },
  {
   "cell_type": "code",
   "execution_count": 12,
   "id": "8e712a31",
   "metadata": {},
   "outputs": [
    {
     "data": {
      "text/plain": [
       "userId    0\n",
       "source    0\n",
       "dtype: int64"
      ]
     },
     "execution_count": 12,
     "metadata": {},
     "output_type": "execute_result"
    }
   ],
   "source": [
    "sources.isna().sum()"
   ]
  },
  {
   "cell_type": "markdown",
   "id": "d0acca1b",
   "metadata": {},
   "source": [
    "Не в одной из таблиц пропусков нет."
   ]
  },
  {
   "cell_type": "markdown",
   "id": "44479154",
   "metadata": {},
   "source": [
    "## Типы данных"
   ]
  },
  {
   "cell_type": "markdown",
   "id": "8ef0f501",
   "metadata": {},
   "source": [
    "У нас есть столбец с датой и веременем совершения пользователем того или иного действия. Столбец имеет тип данных object. И так как данные в столбце event.time до милисикунд, предлогаю их округлить до секунд. Такая точность нам вряд ли понадобится."
   ]
  },
  {
   "cell_type": "code",
   "execution_count": 13,
   "id": "1e9b04be",
   "metadata": {},
   "outputs": [],
   "source": [
    "dataset['event.time'] = pd.to_datetime(dataset['event.time']).dt.round(\"s\")"
   ]
  },
  {
   "cell_type": "markdown",
   "id": "14ef4af1",
   "metadata": {},
   "source": [
    "## Названия столбцов"
   ]
  },
  {
   "cell_type": "markdown",
   "id": "3a78bb0e",
   "metadata": {},
   "source": [
    "Приводим название столбцов в snake case"
   ]
  },
  {
   "cell_type": "code",
   "execution_count": 14,
   "id": "9b5707c7",
   "metadata": {},
   "outputs": [],
   "source": [
    "dataset.columns=['event_time','event_name','user_id']"
   ]
  },
  {
   "cell_type": "code",
   "execution_count": 15,
   "id": "d4c8dfcc",
   "metadata": {},
   "outputs": [
    {
     "data": {
      "text/html": [
       "<div>\n",
       "<style scoped>\n",
       "    .dataframe tbody tr th:only-of-type {\n",
       "        vertical-align: middle;\n",
       "    }\n",
       "\n",
       "    .dataframe tbody tr th {\n",
       "        vertical-align: top;\n",
       "    }\n",
       "\n",
       "    .dataframe thead th {\n",
       "        text-align: right;\n",
       "    }\n",
       "</style>\n",
       "<table border=\"1\" class=\"dataframe\">\n",
       "  <thead>\n",
       "    <tr style=\"text-align: right;\">\n",
       "      <th></th>\n",
       "      <th>event_time</th>\n",
       "      <th>event_name</th>\n",
       "      <th>user_id</th>\n",
       "    </tr>\n",
       "  </thead>\n",
       "  <tbody>\n",
       "    <tr>\n",
       "      <th>0</th>\n",
       "      <td>2019-10-07 00:00:00</td>\n",
       "      <td>advert_open</td>\n",
       "      <td>020292ab-89bc-4156-9acf-68bc2783f894</td>\n",
       "    </tr>\n",
       "    <tr>\n",
       "      <th>1</th>\n",
       "      <td>2019-10-07 00:00:01</td>\n",
       "      <td>tips_show</td>\n",
       "      <td>020292ab-89bc-4156-9acf-68bc2783f894</td>\n",
       "    </tr>\n",
       "    <tr>\n",
       "      <th>2</th>\n",
       "      <td>2019-10-07 00:00:02</td>\n",
       "      <td>tips_show</td>\n",
       "      <td>cf7eda61-9349-469f-ac27-e5b6f5ec475c</td>\n",
       "    </tr>\n",
       "    <tr>\n",
       "      <th>3</th>\n",
       "      <td>2019-10-07 00:00:07</td>\n",
       "      <td>tips_show</td>\n",
       "      <td>020292ab-89bc-4156-9acf-68bc2783f894</td>\n",
       "    </tr>\n",
       "    <tr>\n",
       "      <th>4</th>\n",
       "      <td>2019-10-07 00:00:56</td>\n",
       "      <td>advert_open</td>\n",
       "      <td>cf7eda61-9349-469f-ac27-e5b6f5ec475c</td>\n",
       "    </tr>\n",
       "    <tr>\n",
       "      <th>...</th>\n",
       "      <td>...</td>\n",
       "      <td>...</td>\n",
       "      <td>...</td>\n",
       "    </tr>\n",
       "    <tr>\n",
       "      <th>74192</th>\n",
       "      <td>2019-11-03 23:53:30</td>\n",
       "      <td>tips_show</td>\n",
       "      <td>28fccdf4-7b9e-42f5-bc73-439a265f20e9</td>\n",
       "    </tr>\n",
       "    <tr>\n",
       "      <th>74193</th>\n",
       "      <td>2019-11-03 23:54:00</td>\n",
       "      <td>tips_show</td>\n",
       "      <td>28fccdf4-7b9e-42f5-bc73-439a265f20e9</td>\n",
       "    </tr>\n",
       "    <tr>\n",
       "      <th>74194</th>\n",
       "      <td>2019-11-03 23:56:57</td>\n",
       "      <td>search_1</td>\n",
       "      <td>20850c8f-4135-4059-b13b-198d3ac59902</td>\n",
       "    </tr>\n",
       "    <tr>\n",
       "      <th>74195</th>\n",
       "      <td>2019-11-03 23:57:06</td>\n",
       "      <td>tips_show</td>\n",
       "      <td>28fccdf4-7b9e-42f5-bc73-439a265f20e9</td>\n",
       "    </tr>\n",
       "    <tr>\n",
       "      <th>74196</th>\n",
       "      <td>2019-11-03 23:58:13</td>\n",
       "      <td>tips_show</td>\n",
       "      <td>28fccdf4-7b9e-42f5-bc73-439a265f20e9</td>\n",
       "    </tr>\n",
       "  </tbody>\n",
       "</table>\n",
       "<p>74197 rows × 3 columns</p>\n",
       "</div>"
      ],
      "text/plain": [
       "               event_time   event_name                               user_id\n",
       "0     2019-10-07 00:00:00  advert_open  020292ab-89bc-4156-9acf-68bc2783f894\n",
       "1     2019-10-07 00:00:01    tips_show  020292ab-89bc-4156-9acf-68bc2783f894\n",
       "2     2019-10-07 00:00:02    tips_show  cf7eda61-9349-469f-ac27-e5b6f5ec475c\n",
       "3     2019-10-07 00:00:07    tips_show  020292ab-89bc-4156-9acf-68bc2783f894\n",
       "4     2019-10-07 00:00:56  advert_open  cf7eda61-9349-469f-ac27-e5b6f5ec475c\n",
       "...                   ...          ...                                   ...\n",
       "74192 2019-11-03 23:53:30    tips_show  28fccdf4-7b9e-42f5-bc73-439a265f20e9\n",
       "74193 2019-11-03 23:54:00    tips_show  28fccdf4-7b9e-42f5-bc73-439a265f20e9\n",
       "74194 2019-11-03 23:56:57     search_1  20850c8f-4135-4059-b13b-198d3ac59902\n",
       "74195 2019-11-03 23:57:06    tips_show  28fccdf4-7b9e-42f5-bc73-439a265f20e9\n",
       "74196 2019-11-03 23:58:13    tips_show  28fccdf4-7b9e-42f5-bc73-439a265f20e9\n",
       "\n",
       "[74197 rows x 3 columns]"
      ]
     },
     "execution_count": 15,
     "metadata": {},
     "output_type": "execute_result"
    }
   ],
   "source": [
    "dataset"
   ]
  },
  {
   "cell_type": "code",
   "execution_count": 16,
   "id": "b0150ed2",
   "metadata": {},
   "outputs": [],
   "source": [
    "sources = sources.rename(columns={'userId': 'user_id'})"
   ]
  },
  {
   "cell_type": "code",
   "execution_count": 17,
   "id": "c97161ab",
   "metadata": {
    "scrolled": false
   },
   "outputs": [
    {
     "data": {
      "text/html": [
       "<div>\n",
       "<style scoped>\n",
       "    .dataframe tbody tr th:only-of-type {\n",
       "        vertical-align: middle;\n",
       "    }\n",
       "\n",
       "    .dataframe tbody tr th {\n",
       "        vertical-align: top;\n",
       "    }\n",
       "\n",
       "    .dataframe thead th {\n",
       "        text-align: right;\n",
       "    }\n",
       "</style>\n",
       "<table border=\"1\" class=\"dataframe\">\n",
       "  <thead>\n",
       "    <tr style=\"text-align: right;\">\n",
       "      <th></th>\n",
       "      <th>user_id</th>\n",
       "      <th>source</th>\n",
       "    </tr>\n",
       "  </thead>\n",
       "  <tbody>\n",
       "    <tr>\n",
       "      <th>0</th>\n",
       "      <td>020292ab-89bc-4156-9acf-68bc2783f894</td>\n",
       "      <td>other</td>\n",
       "    </tr>\n",
       "    <tr>\n",
       "      <th>1</th>\n",
       "      <td>cf7eda61-9349-469f-ac27-e5b6f5ec475c</td>\n",
       "      <td>yandex</td>\n",
       "    </tr>\n",
       "    <tr>\n",
       "      <th>2</th>\n",
       "      <td>8c356c42-3ba9-4cb6-80b8-3f868d0192c3</td>\n",
       "      <td>yandex</td>\n",
       "    </tr>\n",
       "    <tr>\n",
       "      <th>3</th>\n",
       "      <td>d9b06b47-0f36-419b-bbb0-3533e582a6cb</td>\n",
       "      <td>other</td>\n",
       "    </tr>\n",
       "    <tr>\n",
       "      <th>4</th>\n",
       "      <td>f32e1e2a-3027-4693-b793-b7b3ff274439</td>\n",
       "      <td>google</td>\n",
       "    </tr>\n",
       "    <tr>\n",
       "      <th>...</th>\n",
       "      <td>...</td>\n",
       "      <td>...</td>\n",
       "    </tr>\n",
       "    <tr>\n",
       "      <th>4288</th>\n",
       "      <td>b86fe56e-f2de-4f8a-b192-cd89a37ecd41</td>\n",
       "      <td>yandex</td>\n",
       "    </tr>\n",
       "    <tr>\n",
       "      <th>4289</th>\n",
       "      <td>424c0ae1-3ea3-4f1e-a814-6bac73e48ab1</td>\n",
       "      <td>yandex</td>\n",
       "    </tr>\n",
       "    <tr>\n",
       "      <th>4290</th>\n",
       "      <td>437a4cd4-9ba9-457f-8614-d142bc48fbeb</td>\n",
       "      <td>yandex</td>\n",
       "    </tr>\n",
       "    <tr>\n",
       "      <th>4291</th>\n",
       "      <td>c10055f0-0b47-477a-869e-d391b31fdf8f</td>\n",
       "      <td>yandex</td>\n",
       "    </tr>\n",
       "    <tr>\n",
       "      <th>4292</th>\n",
       "      <td>d157bffc-264d-4464-8220-1cc0c42f43a9</td>\n",
       "      <td>google</td>\n",
       "    </tr>\n",
       "  </tbody>\n",
       "</table>\n",
       "<p>4293 rows × 2 columns</p>\n",
       "</div>"
      ],
      "text/plain": [
       "                                   user_id  source\n",
       "0     020292ab-89bc-4156-9acf-68bc2783f894   other\n",
       "1     cf7eda61-9349-469f-ac27-e5b6f5ec475c  yandex\n",
       "2     8c356c42-3ba9-4cb6-80b8-3f868d0192c3  yandex\n",
       "3     d9b06b47-0f36-419b-bbb0-3533e582a6cb   other\n",
       "4     f32e1e2a-3027-4693-b793-b7b3ff274439  google\n",
       "...                                    ...     ...\n",
       "4288  b86fe56e-f2de-4f8a-b192-cd89a37ecd41  yandex\n",
       "4289  424c0ae1-3ea3-4f1e-a814-6bac73e48ab1  yandex\n",
       "4290  437a4cd4-9ba9-457f-8614-d142bc48fbeb  yandex\n",
       "4291  c10055f0-0b47-477a-869e-d391b31fdf8f  yandex\n",
       "4292  d157bffc-264d-4464-8220-1cc0c42f43a9  google\n",
       "\n",
       "[4293 rows x 2 columns]"
      ]
     },
     "execution_count": 17,
     "metadata": {},
     "output_type": "execute_result"
    }
   ],
   "source": [
    "sources"
   ]
  },
  {
   "cell_type": "markdown",
   "id": "d54bd832",
   "metadata": {},
   "source": [
    "### Объединение таблиц"
   ]
  },
  {
   "cell_type": "markdown",
   "id": "209211df",
   "metadata": {},
   "source": [
    "Для удобства работы объеденим две таблицы в одну"
   ]
  },
  {
   "cell_type": "code",
   "execution_count": 18,
   "id": "fb38bfeb",
   "metadata": {
    "scrolled": false
   },
   "outputs": [
    {
     "data": {
      "text/html": [
       "<div>\n",
       "<style scoped>\n",
       "    .dataframe tbody tr th:only-of-type {\n",
       "        vertical-align: middle;\n",
       "    }\n",
       "\n",
       "    .dataframe tbody tr th {\n",
       "        vertical-align: top;\n",
       "    }\n",
       "\n",
       "    .dataframe thead th {\n",
       "        text-align: right;\n",
       "    }\n",
       "</style>\n",
       "<table border=\"1\" class=\"dataframe\">\n",
       "  <thead>\n",
       "    <tr style=\"text-align: right;\">\n",
       "      <th></th>\n",
       "      <th>event_time</th>\n",
       "      <th>event_name</th>\n",
       "      <th>user_id</th>\n",
       "      <th>source</th>\n",
       "    </tr>\n",
       "  </thead>\n",
       "  <tbody>\n",
       "    <tr>\n",
       "      <th>0</th>\n",
       "      <td>2019-10-07 00:00:00</td>\n",
       "      <td>advert_open</td>\n",
       "      <td>020292ab-89bc-4156-9acf-68bc2783f894</td>\n",
       "      <td>other</td>\n",
       "    </tr>\n",
       "    <tr>\n",
       "      <th>1</th>\n",
       "      <td>2019-10-07 00:00:01</td>\n",
       "      <td>tips_show</td>\n",
       "      <td>020292ab-89bc-4156-9acf-68bc2783f894</td>\n",
       "      <td>other</td>\n",
       "    </tr>\n",
       "    <tr>\n",
       "      <th>2</th>\n",
       "      <td>2019-10-07 00:00:02</td>\n",
       "      <td>tips_show</td>\n",
       "      <td>cf7eda61-9349-469f-ac27-e5b6f5ec475c</td>\n",
       "      <td>yandex</td>\n",
       "    </tr>\n",
       "    <tr>\n",
       "      <th>3</th>\n",
       "      <td>2019-10-07 00:00:07</td>\n",
       "      <td>tips_show</td>\n",
       "      <td>020292ab-89bc-4156-9acf-68bc2783f894</td>\n",
       "      <td>other</td>\n",
       "    </tr>\n",
       "    <tr>\n",
       "      <th>4</th>\n",
       "      <td>2019-10-07 00:00:56</td>\n",
       "      <td>advert_open</td>\n",
       "      <td>cf7eda61-9349-469f-ac27-e5b6f5ec475c</td>\n",
       "      <td>yandex</td>\n",
       "    </tr>\n",
       "    <tr>\n",
       "      <th>...</th>\n",
       "      <td>...</td>\n",
       "      <td>...</td>\n",
       "      <td>...</td>\n",
       "      <td>...</td>\n",
       "    </tr>\n",
       "    <tr>\n",
       "      <th>74192</th>\n",
       "      <td>2019-11-03 23:53:30</td>\n",
       "      <td>tips_show</td>\n",
       "      <td>28fccdf4-7b9e-42f5-bc73-439a265f20e9</td>\n",
       "      <td>google</td>\n",
       "    </tr>\n",
       "    <tr>\n",
       "      <th>74193</th>\n",
       "      <td>2019-11-03 23:54:00</td>\n",
       "      <td>tips_show</td>\n",
       "      <td>28fccdf4-7b9e-42f5-bc73-439a265f20e9</td>\n",
       "      <td>google</td>\n",
       "    </tr>\n",
       "    <tr>\n",
       "      <th>74194</th>\n",
       "      <td>2019-11-03 23:56:57</td>\n",
       "      <td>search_1</td>\n",
       "      <td>20850c8f-4135-4059-b13b-198d3ac59902</td>\n",
       "      <td>google</td>\n",
       "    </tr>\n",
       "    <tr>\n",
       "      <th>74195</th>\n",
       "      <td>2019-11-03 23:57:06</td>\n",
       "      <td>tips_show</td>\n",
       "      <td>28fccdf4-7b9e-42f5-bc73-439a265f20e9</td>\n",
       "      <td>google</td>\n",
       "    </tr>\n",
       "    <tr>\n",
       "      <th>74196</th>\n",
       "      <td>2019-11-03 23:58:13</td>\n",
       "      <td>tips_show</td>\n",
       "      <td>28fccdf4-7b9e-42f5-bc73-439a265f20e9</td>\n",
       "      <td>google</td>\n",
       "    </tr>\n",
       "  </tbody>\n",
       "</table>\n",
       "<p>74197 rows × 4 columns</p>\n",
       "</div>"
      ],
      "text/plain": [
       "               event_time   event_name                               user_id  \\\n",
       "0     2019-10-07 00:00:00  advert_open  020292ab-89bc-4156-9acf-68bc2783f894   \n",
       "1     2019-10-07 00:00:01    tips_show  020292ab-89bc-4156-9acf-68bc2783f894   \n",
       "2     2019-10-07 00:00:02    tips_show  cf7eda61-9349-469f-ac27-e5b6f5ec475c   \n",
       "3     2019-10-07 00:00:07    tips_show  020292ab-89bc-4156-9acf-68bc2783f894   \n",
       "4     2019-10-07 00:00:56  advert_open  cf7eda61-9349-469f-ac27-e5b6f5ec475c   \n",
       "...                   ...          ...                                   ...   \n",
       "74192 2019-11-03 23:53:30    tips_show  28fccdf4-7b9e-42f5-bc73-439a265f20e9   \n",
       "74193 2019-11-03 23:54:00    tips_show  28fccdf4-7b9e-42f5-bc73-439a265f20e9   \n",
       "74194 2019-11-03 23:56:57     search_1  20850c8f-4135-4059-b13b-198d3ac59902   \n",
       "74195 2019-11-03 23:57:06    tips_show  28fccdf4-7b9e-42f5-bc73-439a265f20e9   \n",
       "74196 2019-11-03 23:58:13    tips_show  28fccdf4-7b9e-42f5-bc73-439a265f20e9   \n",
       "\n",
       "       source  \n",
       "0       other  \n",
       "1       other  \n",
       "2      yandex  \n",
       "3       other  \n",
       "4      yandex  \n",
       "...       ...  \n",
       "74192  google  \n",
       "74193  google  \n",
       "74194  google  \n",
       "74195  google  \n",
       "74196  google  \n",
       "\n",
       "[74197 rows x 4 columns]"
      ]
     },
     "execution_count": 18,
     "metadata": {},
     "output_type": "execute_result"
    }
   ],
   "source": [
    "df = dataset.merge(sources,on='user_id',how='left')\n",
    "df"
   ]
  },
  {
   "cell_type": "markdown",
   "id": "fd326aef",
   "metadata": {},
   "source": [
    "### Вывод"
   ]
  },
  {
   "cell_type": "markdown",
   "id": "2dc49906",
   "metadata": {},
   "source": [
    "## Иследовательский анализ"
   ]
  },
  {
   "cell_type": "markdown",
   "id": "ff032627",
   "metadata": {},
   "source": [
    "### Время проведеное в приложении"
   ]
  },
  {
   "cell_type": "markdown",
   "id": "732e7dec",
   "metadata": {},
   "source": [
    "Для начала посмотрим сколько всего времяни провели пользователи в нашем приложении за все время. И в первую очередь данными за какой временой промежуток мы распологаем."
   ]
  },
  {
   "cell_type": "code",
   "execution_count": 19,
   "id": "3267b854",
   "metadata": {},
   "outputs": [
    {
     "data": {
      "text/plain": [
       "Timestamp('2019-10-07 00:00:00')"
      ]
     },
     "execution_count": 19,
     "metadata": {},
     "output_type": "execute_result"
    }
   ],
   "source": [
    "df['event_time'].min()"
   ]
  },
  {
   "cell_type": "code",
   "execution_count": 20,
   "id": "0a36ada3",
   "metadata": {},
   "outputs": [
    {
     "data": {
      "text/plain": [
       "Timestamp('2019-11-03 23:58:13')"
      ]
     },
     "execution_count": 20,
     "metadata": {},
     "output_type": "execute_result"
    }
   ],
   "source": [
    "df['event_time'].max()"
   ]
  },
  {
   "cell_type": "markdown",
   "id": "e0c87c3a",
   "metadata": {},
   "source": [
    "Итак с 07.10.2019 по 03.11.2019. 28 дней или 4 недели. Добавим столбец в котором будет только дата, без времени."
   ]
  },
  {
   "cell_type": "code",
   "execution_count": 21,
   "id": "fd85f309",
   "metadata": {},
   "outputs": [],
   "source": [
    "df['event_date'] = pd.to_datetime(dataset['event_time']).dt.round(\"d\") # добвавляем столбец с датой"
   ]
  },
  {
   "cell_type": "markdown",
   "id": "4dab85a8",
   "metadata": {},
   "source": [
    "Далее начинем выделять сессии. Для этог воспользуемя способом который был в презентации, соответсвенно сессии выделяем по тайм-ауту"
   ]
  },
  {
   "cell_type": "code",
   "execution_count": 22,
   "id": "89daf300",
   "metadata": {},
   "outputs": [],
   "source": [
    "df = df.sort_values(['user_id', 'event_time']) # сортируем"
   ]
  },
  {
   "cell_type": "code",
   "execution_count": 31,
   "id": "1b34c6b3",
   "metadata": {},
   "outputs": [
    {
     "data": {
      "text/html": [
       "<div>\n",
       "<style scoped>\n",
       "    .dataframe tbody tr th:only-of-type {\n",
       "        vertical-align: middle;\n",
       "    }\n",
       "\n",
       "    .dataframe tbody tr th {\n",
       "        vertical-align: top;\n",
       "    }\n",
       "\n",
       "    .dataframe thead th {\n",
       "        text-align: right;\n",
       "    }\n",
       "</style>\n",
       "<table border=\"1\" class=\"dataframe\">\n",
       "  <thead>\n",
       "    <tr style=\"text-align: right;\">\n",
       "      <th></th>\n",
       "      <th>event_time</th>\n",
       "      <th>event_name</th>\n",
       "      <th>user_id</th>\n",
       "      <th>source</th>\n",
       "      <th>event_date</th>\n",
       "      <th>session_id</th>\n",
       "    </tr>\n",
       "  </thead>\n",
       "  <tbody>\n",
       "    <tr>\n",
       "      <th>805</th>\n",
       "      <td>2019-10-07 13:39:46</td>\n",
       "      <td>tips_show</td>\n",
       "      <td>0001b1d5-b74a-4cbf-aeb0-7df5947bf349</td>\n",
       "      <td>other</td>\n",
       "      <td>2019-10-08</td>\n",
       "      <td>1</td>\n",
       "    </tr>\n",
       "    <tr>\n",
       "      <th>806</th>\n",
       "      <td>2019-10-07 13:40:31</td>\n",
       "      <td>tips_show</td>\n",
       "      <td>0001b1d5-b74a-4cbf-aeb0-7df5947bf349</td>\n",
       "      <td>other</td>\n",
       "      <td>2019-10-08</td>\n",
       "      <td>1</td>\n",
       "    </tr>\n",
       "    <tr>\n",
       "      <th>809</th>\n",
       "      <td>2019-10-07 13:41:06</td>\n",
       "      <td>tips_show</td>\n",
       "      <td>0001b1d5-b74a-4cbf-aeb0-7df5947bf349</td>\n",
       "      <td>other</td>\n",
       "      <td>2019-10-08</td>\n",
       "      <td>1</td>\n",
       "    </tr>\n",
       "    <tr>\n",
       "      <th>820</th>\n",
       "      <td>2019-10-07 13:43:21</td>\n",
       "      <td>tips_show</td>\n",
       "      <td>0001b1d5-b74a-4cbf-aeb0-7df5947bf349</td>\n",
       "      <td>other</td>\n",
       "      <td>2019-10-08</td>\n",
       "      <td>1</td>\n",
       "    </tr>\n",
       "    <tr>\n",
       "      <th>830</th>\n",
       "      <td>2019-10-07 13:45:31</td>\n",
       "      <td>tips_show</td>\n",
       "      <td>0001b1d5-b74a-4cbf-aeb0-7df5947bf349</td>\n",
       "      <td>other</td>\n",
       "      <td>2019-10-08</td>\n",
       "      <td>1</td>\n",
       "    </tr>\n",
       "    <tr>\n",
       "      <th>...</th>\n",
       "      <td>...</td>\n",
       "      <td>...</td>\n",
       "      <td>...</td>\n",
       "      <td>...</td>\n",
       "      <td>...</td>\n",
       "      <td>...</td>\n",
       "    </tr>\n",
       "    <tr>\n",
       "      <th>72584</th>\n",
       "      <td>2019-11-03 15:51:24</td>\n",
       "      <td>tips_show</td>\n",
       "      <td>fffb9e79-b927-4dbb-9b48-7fd09b23a62b</td>\n",
       "      <td>google</td>\n",
       "      <td>2019-11-04</td>\n",
       "      <td>10976</td>\n",
       "    </tr>\n",
       "    <tr>\n",
       "      <th>72589</th>\n",
       "      <td>2019-11-03 15:51:58</td>\n",
       "      <td>contacts_show</td>\n",
       "      <td>fffb9e79-b927-4dbb-9b48-7fd09b23a62b</td>\n",
       "      <td>google</td>\n",
       "      <td>2019-11-04</td>\n",
       "      <td>10976</td>\n",
       "    </tr>\n",
       "    <tr>\n",
       "      <th>72684</th>\n",
       "      <td>2019-11-03 16:07:41</td>\n",
       "      <td>tips_show</td>\n",
       "      <td>fffb9e79-b927-4dbb-9b48-7fd09b23a62b</td>\n",
       "      <td>google</td>\n",
       "      <td>2019-11-04</td>\n",
       "      <td>10976</td>\n",
       "    </tr>\n",
       "    <tr>\n",
       "      <th>72688</th>\n",
       "      <td>2019-11-03 16:08:18</td>\n",
       "      <td>tips_show</td>\n",
       "      <td>fffb9e79-b927-4dbb-9b48-7fd09b23a62b</td>\n",
       "      <td>google</td>\n",
       "      <td>2019-11-04</td>\n",
       "      <td>10976</td>\n",
       "    </tr>\n",
       "    <tr>\n",
       "      <th>72689</th>\n",
       "      <td>2019-11-03 16:08:25</td>\n",
       "      <td>tips_show</td>\n",
       "      <td>fffb9e79-b927-4dbb-9b48-7fd09b23a62b</td>\n",
       "      <td>google</td>\n",
       "      <td>2019-11-04</td>\n",
       "      <td>10976</td>\n",
       "    </tr>\n",
       "  </tbody>\n",
       "</table>\n",
       "<p>74197 rows × 6 columns</p>\n",
       "</div>"
      ],
      "text/plain": [
       "               event_time     event_name  \\\n",
       "805   2019-10-07 13:39:46      tips_show   \n",
       "806   2019-10-07 13:40:31      tips_show   \n",
       "809   2019-10-07 13:41:06      tips_show   \n",
       "820   2019-10-07 13:43:21      tips_show   \n",
       "830   2019-10-07 13:45:31      tips_show   \n",
       "...                   ...            ...   \n",
       "72584 2019-11-03 15:51:24      tips_show   \n",
       "72589 2019-11-03 15:51:58  contacts_show   \n",
       "72684 2019-11-03 16:07:41      tips_show   \n",
       "72688 2019-11-03 16:08:18      tips_show   \n",
       "72689 2019-11-03 16:08:25      tips_show   \n",
       "\n",
       "                                    user_id  source event_date  session_id  \n",
       "805    0001b1d5-b74a-4cbf-aeb0-7df5947bf349   other 2019-10-08           1  \n",
       "806    0001b1d5-b74a-4cbf-aeb0-7df5947bf349   other 2019-10-08           1  \n",
       "809    0001b1d5-b74a-4cbf-aeb0-7df5947bf349   other 2019-10-08           1  \n",
       "820    0001b1d5-b74a-4cbf-aeb0-7df5947bf349   other 2019-10-08           1  \n",
       "830    0001b1d5-b74a-4cbf-aeb0-7df5947bf349   other 2019-10-08           1  \n",
       "...                                     ...     ...        ...         ...  \n",
       "72584  fffb9e79-b927-4dbb-9b48-7fd09b23a62b  google 2019-11-04       10976  \n",
       "72589  fffb9e79-b927-4dbb-9b48-7fd09b23a62b  google 2019-11-04       10976  \n",
       "72684  fffb9e79-b927-4dbb-9b48-7fd09b23a62b  google 2019-11-04       10976  \n",
       "72688  fffb9e79-b927-4dbb-9b48-7fd09b23a62b  google 2019-11-04       10976  \n",
       "72689  fffb9e79-b927-4dbb-9b48-7fd09b23a62b  google 2019-11-04       10976  \n",
       "\n",
       "[74197 rows x 6 columns]"
      ]
     },
     "execution_count": 31,
     "metadata": {},
     "output_type": "execute_result"
    }
   ],
   "source": [
    "get_sessions = (df.groupby('user_id')['event_time'].diff() >= pd.Timedelta('20Min')).cumsum() # Этот код взят из пачки/stackoverflow\n",
    "df['session_id'] = df.groupby(['user_id', get_sessions], sort=False).ngroup() + 1\n",
    "df"
   ]
  },
  {
   "cell_type": "markdown",
   "id": "3357f51d",
   "metadata": {},
   "source": [
    "Столбец с id сессии добавлен. Теперь создадим таблицу в которой будут id сессии, дата начала и конца сессии, а также ее продолжительность"
   ]
  },
  {
   "cell_type": "code",
   "execution_count": 24,
   "id": "444555bc",
   "metadata": {
    "scrolled": false
   },
   "outputs": [
    {
     "data": {
      "text/html": [
       "<div>\n",
       "<style scoped>\n",
       "    .dataframe tbody tr th:only-of-type {\n",
       "        vertical-align: middle;\n",
       "    }\n",
       "\n",
       "    .dataframe tbody tr th {\n",
       "        vertical-align: top;\n",
       "    }\n",
       "\n",
       "    .dataframe thead th {\n",
       "        text-align: right;\n",
       "    }\n",
       "</style>\n",
       "<table border=\"1\" class=\"dataframe\">\n",
       "  <thead>\n",
       "    <tr style=\"text-align: right;\">\n",
       "      <th></th>\n",
       "      <th>session_id</th>\n",
       "      <th>min</th>\n",
       "      <th>max</th>\n",
       "      <th>time</th>\n",
       "    </tr>\n",
       "  </thead>\n",
       "  <tbody>\n",
       "    <tr>\n",
       "      <th>0</th>\n",
       "      <td>1</td>\n",
       "      <td>2019-10-07 13:39:46</td>\n",
       "      <td>2019-10-07 13:49:42</td>\n",
       "      <td>10.0</td>\n",
       "    </tr>\n",
       "    <tr>\n",
       "      <th>1</th>\n",
       "      <td>2</td>\n",
       "      <td>2019-10-09 18:33:56</td>\n",
       "      <td>2019-10-09 18:42:23</td>\n",
       "      <td>8.0</td>\n",
       "    </tr>\n",
       "    <tr>\n",
       "      <th>2</th>\n",
       "      <td>3</td>\n",
       "      <td>2019-10-21 19:52:31</td>\n",
       "      <td>2019-10-21 20:07:30</td>\n",
       "      <td>15.0</td>\n",
       "    </tr>\n",
       "    <tr>\n",
       "      <th>3</th>\n",
       "      <td>4</td>\n",
       "      <td>2019-10-22 11:18:15</td>\n",
       "      <td>2019-10-22 11:30:53</td>\n",
       "      <td>13.0</td>\n",
       "    </tr>\n",
       "    <tr>\n",
       "      <th>4</th>\n",
       "      <td>5</td>\n",
       "      <td>2019-10-19 21:34:34</td>\n",
       "      <td>2019-10-19 21:59:55</td>\n",
       "      <td>25.0</td>\n",
       "    </tr>\n",
       "    <tr>\n",
       "      <th>...</th>\n",
       "      <td>...</td>\n",
       "      <td>...</td>\n",
       "      <td>...</td>\n",
       "      <td>...</td>\n",
       "    </tr>\n",
       "    <tr>\n",
       "      <th>10971</th>\n",
       "      <td>10972</td>\n",
       "      <td>2019-11-02 01:16:49</td>\n",
       "      <td>2019-11-02 01:16:49</td>\n",
       "      <td>0.0</td>\n",
       "    </tr>\n",
       "    <tr>\n",
       "      <th>10972</th>\n",
       "      <td>10973</td>\n",
       "      <td>2019-11-02 18:01:27</td>\n",
       "      <td>2019-11-02 18:17:41</td>\n",
       "      <td>16.0</td>\n",
       "    </tr>\n",
       "    <tr>\n",
       "      <th>10973</th>\n",
       "      <td>10974</td>\n",
       "      <td>2019-11-02 19:25:54</td>\n",
       "      <td>2019-11-02 19:30:50</td>\n",
       "      <td>5.0</td>\n",
       "    </tr>\n",
       "    <tr>\n",
       "      <th>10974</th>\n",
       "      <td>10975</td>\n",
       "      <td>2019-11-03 14:32:56</td>\n",
       "      <td>2019-11-03 14:48:44</td>\n",
       "      <td>16.0</td>\n",
       "    </tr>\n",
       "    <tr>\n",
       "      <th>10975</th>\n",
       "      <td>10976</td>\n",
       "      <td>2019-11-03 15:36:01</td>\n",
       "      <td>2019-11-03 16:08:25</td>\n",
       "      <td>32.0</td>\n",
       "    </tr>\n",
       "  </tbody>\n",
       "</table>\n",
       "<p>10976 rows × 4 columns</p>\n",
       "</div>"
      ],
      "text/plain": [
       "       session_id                 min                 max  time\n",
       "0               1 2019-10-07 13:39:46 2019-10-07 13:49:42  10.0\n",
       "1               2 2019-10-09 18:33:56 2019-10-09 18:42:23   8.0\n",
       "2               3 2019-10-21 19:52:31 2019-10-21 20:07:30  15.0\n",
       "3               4 2019-10-22 11:18:15 2019-10-22 11:30:53  13.0\n",
       "4               5 2019-10-19 21:34:34 2019-10-19 21:59:55  25.0\n",
       "...           ...                 ...                 ...   ...\n",
       "10971       10972 2019-11-02 01:16:49 2019-11-02 01:16:49   0.0\n",
       "10972       10973 2019-11-02 18:01:27 2019-11-02 18:17:41  16.0\n",
       "10973       10974 2019-11-02 19:25:54 2019-11-02 19:30:50   5.0\n",
       "10974       10975 2019-11-03 14:32:56 2019-11-03 14:48:44  16.0\n",
       "10975       10976 2019-11-03 15:36:01 2019-11-03 16:08:25  32.0\n",
       "\n",
       "[10976 rows x 4 columns]"
      ]
     },
     "execution_count": 24,
     "metadata": {},
     "output_type": "execute_result"
    }
   ],
   "source": [
    "session_time = df.groupby('session_id')['event_time'].agg(['min','max']) # Строим таблицу с датой начала и конца сессии\n",
    "session_time['time'] = round((session_time['max'] - session_time['min']).dt.seconds/60,0) # добавляем столбк сколько минут длилась сессия\n",
    "session_time = session_time.reset_index() \n",
    "session_time\n",
    "# Блин ну дальше по этому пункту должно быть легко\n",
    "# Значит посчитаем среднюю продолжительность сессии\n",
    "# Потом общее время которое пользователи провели в приложении \n",
    "# Также посмотрим максимальное время\n",
    "# Возможно еще раскидаем по времени суток"
   ]
  },
  {
   "cell_type": "markdown",
   "id": "b8fbd840",
   "metadata": {},
   "source": [
    "Таблица готова. Посмотрим информацию о ней с помощью info()"
   ]
  },
  {
   "cell_type": "code",
   "execution_count": 25,
   "id": "5ce6ebe3",
   "metadata": {},
   "outputs": [
    {
     "name": "stdout",
     "output_type": "stream",
     "text": [
      "<class 'pandas.core.frame.DataFrame'>\n",
      "RangeIndex: 10976 entries, 0 to 10975\n",
      "Data columns (total 4 columns):\n",
      " #   Column      Non-Null Count  Dtype         \n",
      "---  ------      --------------  -----         \n",
      " 0   session_id  10976 non-null  int64         \n",
      " 1   min         10976 non-null  datetime64[ns]\n",
      " 2   max         10976 non-null  datetime64[ns]\n",
      " 3   time        10976 non-null  float64       \n",
      "dtypes: datetime64[ns](2), float64(1), int64(1)\n",
      "memory usage: 343.1 KB\n"
     ]
    }
   ],
   "source": [
    "session_time.info()"
   ]
  },
  {
   "cell_type": "markdown",
   "id": "7bd8828f",
   "metadata": {},
   "source": [
    "Как можно увидеть 10976 строк что ровняется количеству сессий. Типы данных у всех столбцов верные. Далее посмотрим на данные с помощью функции describe."
   ]
  },
  {
   "cell_type": "code",
   "execution_count": 26,
   "id": "2938c9f6",
   "metadata": {},
   "outputs": [
    {
     "data": {
      "text/html": [
       "<div>\n",
       "<style scoped>\n",
       "    .dataframe tbody tr th:only-of-type {\n",
       "        vertical-align: middle;\n",
       "    }\n",
       "\n",
       "    .dataframe tbody tr th {\n",
       "        vertical-align: top;\n",
       "    }\n",
       "\n",
       "    .dataframe thead th {\n",
       "        text-align: right;\n",
       "    }\n",
       "</style>\n",
       "<table border=\"1\" class=\"dataframe\">\n",
       "  <thead>\n",
       "    <tr style=\"text-align: right;\">\n",
       "      <th></th>\n",
       "      <th>time</th>\n",
       "    </tr>\n",
       "  </thead>\n",
       "  <tbody>\n",
       "    <tr>\n",
       "      <th>count</th>\n",
       "      <td>10976.000000</td>\n",
       "    </tr>\n",
       "    <tr>\n",
       "      <th>mean</th>\n",
       "      <td>10.797649</td>\n",
       "    </tr>\n",
       "    <tr>\n",
       "      <th>std</th>\n",
       "      <td>16.112926</td>\n",
       "    </tr>\n",
       "    <tr>\n",
       "      <th>min</th>\n",
       "      <td>0.000000</td>\n",
       "    </tr>\n",
       "    <tr>\n",
       "      <th>25%</th>\n",
       "      <td>0.000000</td>\n",
       "    </tr>\n",
       "    <tr>\n",
       "      <th>50%</th>\n",
       "      <td>5.000000</td>\n",
       "    </tr>\n",
       "    <tr>\n",
       "      <th>75%</th>\n",
       "      <td>15.000000</td>\n",
       "    </tr>\n",
       "    <tr>\n",
       "      <th>max</th>\n",
       "      <td>234.000000</td>\n",
       "    </tr>\n",
       "  </tbody>\n",
       "</table>\n",
       "</div>"
      ],
      "text/plain": [
       "               time\n",
       "count  10976.000000\n",
       "mean      10.797649\n",
       "std       16.112926\n",
       "min        0.000000\n",
       "25%        0.000000\n",
       "50%        5.000000\n",
       "75%       15.000000\n",
       "max      234.000000"
      ]
     },
     "execution_count": 26,
     "metadata": {},
     "output_type": "execute_result"
    }
   ],
   "source": [
    "session_time['time'].describe().to_frame()"
   ]
  },
  {
   "cell_type": "markdown",
   "id": "f0e4215e",
   "metadata": {},
   "source": [
    "Сдесь картина выресовыветься страная. Видимо слишком много сессий чья продолжительность ровна нулю. Предлогаю отфильтровать данные."
   ]
  },
  {
   "cell_type": "code",
   "execution_count": 27,
   "id": "79149ce7",
   "metadata": {},
   "outputs": [],
   "source": [
    "session_time = session_time.query('time > 0') # фильтруем нули"
   ]
  },
  {
   "cell_type": "markdown",
   "id": "a96ab7bb",
   "metadata": {},
   "source": [
    "Повторно применяем функцию desribe"
   ]
  },
  {
   "cell_type": "code",
   "execution_count": 28,
   "id": "63f3f5f3",
   "metadata": {},
   "outputs": [
    {
     "data": {
      "text/html": [
       "<div>\n",
       "<style scoped>\n",
       "    .dataframe tbody tr th:only-of-type {\n",
       "        vertical-align: middle;\n",
       "    }\n",
       "\n",
       "    .dataframe tbody tr th {\n",
       "        vertical-align: top;\n",
       "    }\n",
       "\n",
       "    .dataframe thead th {\n",
       "        text-align: right;\n",
       "    }\n",
       "</style>\n",
       "<table border=\"1\" class=\"dataframe\">\n",
       "  <thead>\n",
       "    <tr style=\"text-align: right;\">\n",
       "      <th></th>\n",
       "      <th>time</th>\n",
       "    </tr>\n",
       "  </thead>\n",
       "  <tbody>\n",
       "    <tr>\n",
       "      <th>count</th>\n",
       "      <td>7936.000000</td>\n",
       "    </tr>\n",
       "    <tr>\n",
       "      <th>mean</th>\n",
       "      <td>14.933846</td>\n",
       "    </tr>\n",
       "    <tr>\n",
       "      <th>std</th>\n",
       "      <td>17.242838</td>\n",
       "    </tr>\n",
       "    <tr>\n",
       "      <th>min</th>\n",
       "      <td>1.000000</td>\n",
       "    </tr>\n",
       "    <tr>\n",
       "      <th>25%</th>\n",
       "      <td>4.000000</td>\n",
       "    </tr>\n",
       "    <tr>\n",
       "      <th>50%</th>\n",
       "      <td>10.000000</td>\n",
       "    </tr>\n",
       "    <tr>\n",
       "      <th>75%</th>\n",
       "      <td>20.000000</td>\n",
       "    </tr>\n",
       "    <tr>\n",
       "      <th>max</th>\n",
       "      <td>234.000000</td>\n",
       "    </tr>\n",
       "  </tbody>\n",
       "</table>\n",
       "</div>"
      ],
      "text/plain": [
       "              time\n",
       "count  7936.000000\n",
       "mean     14.933846\n",
       "std      17.242838\n",
       "min       1.000000\n",
       "25%       4.000000\n",
       "50%      10.000000\n",
       "75%      20.000000\n",
       "max     234.000000"
      ]
     },
     "execution_count": 28,
     "metadata": {},
     "output_type": "execute_result"
    }
   ],
   "source": [
    "session_time['time'].describe().to_frame()"
   ]
  },
  {
   "cell_type": "markdown",
   "id": "1374531b",
   "metadata": {},
   "source": [
    "Теперь картина выглядит более адекватно. Построим ящик с усами."
   ]
  },
  {
   "cell_type": "code",
   "execution_count": 37,
   "id": "00537146",
   "metadata": {
    "scrolled": false
   },
   "outputs": [
    {
     "data": {
      "image/png": "[encoded data removed]",
      "text/plain": [
       "<Figure size 500x1000 with 1 Axes>"
      ]
     },
     "metadata": {},
     "output_type": "display_data"
    }
   ],
   "source": [
    "fig, ax = plt.subplots(figsize = (5,10))\n",
    "sns.boxplot(y='time', data=session_time)\n",
    "plt.title('Продолжительность сессии')\n",
    "plt.ylabel('Минуты')\n",
    "plt.show() "
   ]
  },
  {
   "cell_type": "markdown",
   "id": "b2230b55",
   "metadata": {},
   "source": [
    "Посмотрим на этот график в другом маштабе"
   ]
  },
  {
   "cell_type": "code",
   "execution_count": 38,
   "id": "56dd8061",
   "metadata": {},
   "outputs": [
    {
     "data": {
      "image/png": "[encoded data removed]",
      "text/plain": [
       "<Figure size 500x1000 with 1 Axes>"
      ]
     },
     "metadata": {},
     "output_type": "display_data"
    }
   ],
   "source": [
    "fig, ax = plt.subplots(figsize = (5,10))\n",
    "sns.boxplot(y='time', data=session_time)\n",
    "ax.set(ylim=(0, 50))\n",
    "plt.title('Продолжительность сессии')\n",
    "plt.ylabel('Минуты')\n",
    "plt.show() "
   ]
  },
  {
   "cell_type": "markdown",
   "id": "52c15ef0",
   "metadata": {},
   "source": [
    "Итак из этой картины становиться ясно что минимальная длина сессии 1 минута, а максимальная 234 минуты. Средняя продолжительность сессии 15 минут. Большенство сессий длятся от 5 до 20 минут."
   ]
  },
  {
   "cell_type": "markdown",
   "id": "80fbd666",
   "metadata": {},
   "source": [
    "### Retention Rate"
   ]
  },
  {
   "cell_type": "markdown",
   "id": "49e08e1b",
   "metadata": {},
   "source": [
    "Retention Rate — важнейший показатель для компаний, которые зарабатывают с пользователей напрямую. Например, для интернет-магазинов или сервисов, работающих по подписке. Ведь чем дольше привлечённый рекламой или другими способами клиент пользуется продуктом, тем больше потенциальная выручка.\n",
    "\n",
    "Чтобы рассчитать Retention Rate, количество активных пользователей на текущий день делят на количество активных пользователей на первый день."
   ]
  },
  {
   "cell_type": "code",
   "execution_count": null,
   "id": "0291e84e",
   "metadata": {},
   "outputs": [],
   "source": []
  },
  {
   "cell_type": "markdown",
   "id": "4e937c4b",
   "metadata": {},
   "source": [
    "Здесь вообще пиздос, я кажеться не успеваю"
   ]
  },
  {
   "cell_type": "markdown",
   "id": "4685f6cb",
   "metadata": {},
   "source": [
    "## Основные вопросы иследования"
   ]
  },
  {
   "cell_type": "markdown",
   "id": "c5581bdc",
   "metadata": {},
   "source": [
    "### В разрезе сессий отобрать сценарии, которые приводят к просмотру контактов"
   ]
  },
  {
   "cell_type": "markdown",
   "id": "ced43884",
   "metadata": {},
   "source": [
    "### 2"
   ]
  },
  {
   "cell_type": "markdown",
   "id": "59ec4827",
   "metadata": {},
   "source": [
    "### 3"
   ]
  },
  {
   "cell_type": "markdown",
   "id": "a73eedf5",
   "metadata": {},
   "source": [
    "### 4"
   ]
  },
  {
   "cell_type": "markdown",
   "id": "0a2cab4b",
   "metadata": {},
   "source": [
    "## Проверка гипотез "
   ]
  },
  {
   "cell_type": "markdown",
   "id": "e333513b",
   "metadata": {},
   "source": [
    "### Первая"
   ]
  },
  {
   "cell_type": "markdown",
   "id": "9797e5c7",
   "metadata": {},
   "source": [
    "### Вторая"
   ]
  },
  {
   "cell_type": "markdown",
   "id": "92d1756e",
   "metadata": {},
   "source": [
    "## Вывод"
   ]
  },
  {
   "cell_type": "code",
   "execution_count": null,
   "id": "572d1030",
   "metadata": {},
   "outputs": [],
   "source": []
  }
 ],
 "metadata": {
  "kernelspec": {
   "display_name": "Python 3 (ipykernel)",
   "language": "python",
   "name": "python3"
  },
  "language_info": {
   "codemirror_mode": {
    "name": "ipython",
    "version": 3
   },
   "file_extension": ".py",
   "mimetype": "text/x-python",
   "name": "python",
   "nbconvert_exporter": "python",
   "pygments_lexer": "ipython3",
   "version": "3.10.9"
  },
  "toc": {
   "base_numbering": 1,
   "nav_menu": {},
   "number_sections": true,
   "sideBar": true,
   "skip_h1_title": true,
   "title_cell": "Table of Contents",
   "title_sidebar": "Contents",
   "toc_cell": false,
   "toc_position": {},
   "toc_section_display": true,
   "toc_window_display": false
  }
 },
 "nbformat": 4,
 "nbformat_minor": 5
}
