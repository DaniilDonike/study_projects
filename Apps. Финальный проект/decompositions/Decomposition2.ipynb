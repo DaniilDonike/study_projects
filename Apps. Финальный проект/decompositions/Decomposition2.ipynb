{
 "cells": [
  {
   "cell_type": "markdown",
   "id": "415c50d3",
   "metadata": {},
   "source": [
    "<div style=\"border-radius: 15px; box-shadow: 2px 2px 4px; border: 1px solid; background:#bdc3c7; position: relative; padding: 15px; padding-left: 80px;\">\n",
    "<img src=\"https://lh3.googleusercontent.com/a/AAcHTtc31jlywy-FMYxLAouSSqNAmm5NsrBvivwRIASNt7wihI2ClYdpAbzWNqcigfcR04LfvopHwsJrJpnVr4UXDkCHtWk=s432-c-no\" width=\"45\" height=\"45\" style=\"position: absolute; top: 15px; left: 15px; border-radius: 50%;\">\n",
    "<h7 style=\"color:black; margin-bottom:20px\"> Даниил, привет! Это Михаил.\n",
    "\n",
    "Мои комментарии и замечания далее по тексту помечены различными цветами:\n",
    "\n",
    "---\n",
    "<div class=\"alert alert-block alert-danger\">\n",
    "⁉️ : Критическое замечание, которые следует исправить.\n",
    "</div>\n",
    "\n",
    "<div class=\"alert alert-block alert-warning\">\n",
    "✏️ : Рекомендация\\совет на будущее.\n",
    "</div>\n",
    "\n",
    "<div class=\"alert alert-block alert-success\">\n",
    "✔️ : Когда всё сделано правильно.\n",
    "</div>\n",
    "\n",
    "---\n",
    "\n",
    "Хорошей практикой является оставлять свои комментарии после исправлений замечаний или для вопросов, разъяснений. Для того чтобы мне было легче их найти, то выделяй, пожалуйста, с помощью цвета, например вот так:\n",
    "\n",
    "<div class=\"alert alert-info\" style=\"border-radius: 15px; box-shadow: 4px 4px 4px; border: 1px solid \" ><b> Комментарий студента : </b>\n",
    "\n",
    "Вопрос, который не останется незамеченным\n",
    "\n",
    "</div>\n",
    "\n",
    "---\n",
    "\n",
    "**В рамках финального спринта у вас есть лимит на количество итераций проверок. Я буду для информативности их отмечать в итоговом ревью:**\n",
    "\n",
    "<div class=\"alert alert-danger\" style=\"border-radius: 15px; box-shadow: 4px 4px 4px; border: 1px solid \">\n",
    "\n",
    "**`[1/6]`**\n",
    "\n",
    "Итог ревью - ...\n",
    "\n",
    "</div>\n",
    "\n",
    "p.s.: не удаляй мои замечания, если предстоит что-то доработать в проекте.</h7>"
   ]
  },
  {
   "cell_type": "markdown",
   "id": "10828177",
   "metadata": {},
   "source": [
    "# Финальный проект. Декомпозиция"
   ]
  },
  {
   "cell_type": "markdown",
   "id": "f800555c",
   "metadata": {},
   "source": [
    "<div class=\"alert alert-warning\" style=\"border-radius: 15px; box-shadow: 4px 4px 4px; border: 1px solid; position: relative; padding: 15px; padding-left: 80px;\">\n",
    "<img src=\"https://lh3.googleusercontent.com/a/AAcHTtc31jlywy-FMYxLAouSSqNAmm5NsrBvivwRIASNt7wihI2ClYdpAbzWNqcigfcR04LfvopHwsJrJpnVr4UXDkCHtWk=s432-c-no\" width=\"45\" height=\"45\" style=\"position: absolute; top: 15px; left: 15px; border-radius: 50%;\">\n",
    "<b> ✏️ Рекомендация тимлида: </b>\n",
    "\n",
    "Хорошей практикой является давать работе какое-то ёмкое наименование (заголовок), о чём она, т.е. декомпозиция проекта \"...\"\n",
    "\n",
    "</div>"
   ]
  },
  {
   "cell_type": "markdown",
   "id": "5eb3c33d",
   "metadata": {},
   "source": [
    "## Описание проекта"
   ]
  },
  {
   "cell_type": "markdown",
   "id": "309856f6",
   "metadata": {},
   "source": [
    "Датасет содержит данные о событиях, совершенных в мобильном приложении \"Ненужные вещи\". В нем пользователи продают свои ненужные вещи, размещая их на доске объявлений.\n",
    "В датасете содержатся данные пользователей, впервые совершивших действия в\n",
    "приложении после 7 октября 2019 года.\n",
    "\n",
    "Колонки в /datasets/mobile_sources.csv :\n",
    "- userId — идентификатор пользователя,\n",
    "- source — источник, с которого пользователь установил приложение.\n",
    "<br>\n",
    "\n",
    "Колонки в /datasets/mobile_dataset.csv :\n",
    "- event.time — время совершения,\n",
    "- user.id — идентификатор пользователя,\n",
    "- event.name — действие пользователя.\n",
    "<br>\n",
    "\n",
    "Виды действий:\n",
    "- advert_open — открыл карточки объявления,\n",
    "- photos_show — просмотрел фотографий в объявлении,\n",
    "- tips_show — увидел рекомендованные объявления,\n",
    "- tips_click — кликнул по рекомендованному объявлению,\n",
    "- contacts_show и show_contacts — посмотрел номер телефона,\n",
    "- contacts_call — позвонил по номеру из объявления,\n",
    "- map — открыл карту объявлений,\n",
    "- search_1 — search_7 — разные действия, связанные с поиском по сайту,\n",
    "- favorites_add — добавил объявление в избранное."
   ]
  },
  {
   "cell_type": "markdown",
   "id": "05866cce",
   "metadata": {},
   "source": [
    "## Задачи проекта"
   ]
  },
  {
   "cell_type": "markdown",
   "id": "325d87c3",
   "metadata": {},
   "source": [
    "1. Проанализировать связь целевого события — просмотра контактов — и других действий пользователей.\n",
    "2. Оценить, какие действия чаще совершают те пользователи, которыепросматривают контакты."
   ]
  },
  {
   "cell_type": "markdown",
   "id": "0977edaf",
   "metadata": {},
   "source": [
    "## Цели"
   ]
  },
  {
   "cell_type": "markdown",
   "id": "c91bcc73",
   "metadata": {},
   "source": [
    "Анализ поведения пользователей приложения \"Ненужные вещи\" для увеличения конверсии в целевое действие, что в свою очередь увеличит вовлеченость"
   ]
  },
  {
   "cell_type": "markdown",
   "id": "2cfb2101",
   "metadata": {},
   "source": [
    "## Структура проекта"
   ]
  },
  {
   "cell_type": "markdown",
   "id": "44a83f5d",
   "metadata": {},
   "source": [
    "\n",
    "\n",
    "<div id=\"div_id\" class=\"alert alert-danger\" style=\"border-radius: 15px; box-shadow: 4px 4px 4px; border: 1px solid; position: relative; padding: 15px; padding-left: 80px;\">\n",
    "<img src=\"https://lh3.googleusercontent.com/a/AAcHTtc31jlywy-FMYxLAouSSqNAmm5NsrBvivwRIASNt7wihI2ClYdpAbzWNqcigfcR04LfvopHwsJrJpnVr4UXDkCHtWk=s432-c-no\" width=\"45\" height=\"45\" style=\"position: absolute; top: 15px; left: 15px; border-radius: 50%;\">\n",
    "<b> ⁉️ Критическое замечание тимлида : </b>\n",
    "    \n",
    "Ты формируешь декомпозицию исследования. Следовательно, необходимо обозначить задачи и цели этого исследования\n",
    "\n",
    "</div>\n",
    "\n",
    "\n",
    "- __Знакомство с данными__\n",
    "- __Предобработка данных__ \n",
    "    - Проверка дубликатов \n",
    "    - Проверка пропусков \n",
    "    - Ошибки в данных\n",
    "    - Названия столбцов\n",
    "- __Иследовательский анализ данных__\n",
    "    - Время проведеное в приложении\n",
    "    - Retention Rate\n",
    "- __Основные вопросы иследования__\n",
    "    - В разрезе сессий отобрать сценарии, которые приводят к просмотру контактов\n",
    "    - Строим воронки по основным сценариям в разрезе уникальных пользователей\n",
    "    - Различия длитильности сессии с просмотром номера и без\n",
    "    - Рассчитываем относительную частоту событий для тех кто смотрел контакты и тех кто не смотрел\n",
    "    \n",
    "<div id=\"div_id\" class=\"alert alert-danger\" style=\"border-radius: 15px; box-shadow: 4px 4px 4px; border: 1px solid; position: relative; padding: 15px; padding-left: 80px;\">\n",
    "<img src=\"https://lh3.googleusercontent.com/a/AAcHTtc31jlywy-FMYxLAouSSqNAmm5NsrBvivwRIASNt7wihI2ClYdpAbzWNqcigfcR04LfvopHwsJrJpnVr4UXDkCHtWk=s432-c-no\" width=\"45\" height=\"45\" style=\"position: absolute; top: 15px; left: 15px; border-radius: 50%;\">\n",
    "<b> ⁉️ Критическое замечание тимлида : </b>\n",
    "\n",
    "Прошу ознакомиться с материалами созвона и презентацией. В них представлены конкретные вопросы заказчика, требующие ответа.\n",
    "\n",
    "Эти вопросы отсутствуют в плане работы, поэтому необходимо удостовериться в понимании направления разработки проекта.\n",
    "\n",
    "</div>\n",
    "\n",
    "\n",
    "- __Проверка гипотиз__\n",
    "    - Одни пользователи совершают действия tips_show и tips_click, другие – только tips_show. Проверить гипотезу, что конверсия в просмотр контактов различается у этих двух групп.\n",
    "    - Различается ли конверсия в целевое действие пользователей, которые добавляют объявление в избраное, от тех кто не добавляет."
   ]
  },
  {
   "cell_type": "markdown",
   "id": "0983cbb1",
   "metadata": {},
   "source": [
    "<div class=\"alert alert-success\" style=\"border-radius: 15px; box-shadow: 4px 4px 4px; border: 1px solid; position: relative; padding: 15px; padding-left: 80px;\">\n",
    "<img src=\"https://lh3.googleusercontent.com/a/AAcHTtc31jlywy-FMYxLAouSSqNAmm5NsrBvivwRIASNt7wihI2ClYdpAbzWNqcigfcR04LfvopHwsJrJpnVr4UXDkCHtWk=s432-c-no\" width=\"45\" height=\"45\" style=\"position: absolute; top: 15px; left: 15px; border-radius: 50%;\">\n",
    "<b> ✔️ Комментарий тимлида  : </b>\n",
    "\n",
    "Собственная гипотеза рабочая. Данная информация будет полезна для оценки функционала приложения.\n",
    "\n",
    "</div>"
   ]
  }
 ],
 "metadata": {
  "kernelspec": {
   "display_name": "Python 3 (ipykernel)",
   "language": "python",
   "name": "python3"
  },
  "language_info": {
   "codemirror_mode": {
    "name": "ipython",
    "version": 3
   },
   "file_extension": ".py",
   "mimetype": "text/x-python",
   "name": "python",
   "nbconvert_exporter": "python",
   "pygments_lexer": "ipython3",
   "version": "3.10.9"
  },
  "toc": {
   "base_numbering": 1,
   "nav_menu": {},
   "number_sections": true,
   "sideBar": true,
   "skip_h1_title": true,
   "title_cell": "Table of Contents",
   "title_sidebar": "Contents",
   "toc_cell": false,
   "toc_position": {},
   "toc_section_display": true,
   "toc_window_display": false
  }
 },
 "nbformat": 4,
 "nbformat_minor": 5
}
